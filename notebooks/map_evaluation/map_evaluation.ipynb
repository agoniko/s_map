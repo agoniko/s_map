{
 "cells": [
  {
   "cell_type": "code",
   "execution_count": 1,
   "metadata": {},
   "outputs": [
    {
     "name": "stdout",
     "output_type": "stream",
     "text": [
      "Jupyter environment detected. Enabling Open3D WebVisualizer.\n",
      "[Open3D INFO] WebRTC GUI backend enabled.\n",
      "[Open3D INFO] WebRTCWindowSystem: HTTP handshake server disabled.\n"
     ]
    },
    {
     "name": "stderr",
     "output_type": "stream",
     "text": [
      "/usr/lib/python3/dist-packages/scipy/__init__.py:146: UserWarning: A NumPy version >=1.17.3 and <1.25.0 is required for this version of SciPy (detected version 1.26.4\n",
      "  warnings.warn(f\"A NumPy version >={np_minversion} and <{np_maxversion}\"\n"
     ]
    }
   ],
   "source": [
    "import open3d as o3d\n",
    "import numpy as np\n",
    "\n",
    "LASER_PATH = \"pointclouds/accumulated_laserscan_scene3.ply\"\n",
    "MAP_PATH = \"pointclouds/rtabmap_pointcloud_scene3.ply\"\n",
    "\n",
    "laser_pcd = o3d.io.read_point_cloud(LASER_PATH)\n",
    "map_pcd = o3d.io.read_point_cloud(MAP_PATH)\n",
    "\n",
    "laser_pcd.paint_uniform_color([1, 0, 0])\n",
    "map_pcd.paint_uniform_color([0, 1, 0])\n",
    "\n",
    "o3d.visualization.draw_geometries([laser_pcd, map_pcd])"
   ]
  },
  {
   "cell_type": "code",
   "execution_count": 7,
   "metadata": {},
   "outputs": [],
   "source": [
    "z = np.array(laser_pcd.points)[0, 2]\n",
    "slack = 0.1\n",
    "\n",
    "map_points = np.array(map_pcd.points)\n",
    "map_points = map_points[map_points[:, 2] >= z - slack]\n",
    "map_points = map_points[map_points[:, 2] <= z + slack]\n",
    "map_points[:, 2] = z\n",
    "\n",
    "map_pcd.points = o3d.utility.Vector3dVector(map_points)\n",
    "map_pcd.paint_uniform_color([0, 1, 0])\n",
    "\n",
    "o3d.visualization.draw_geometries([laser_pcd, map_pcd])"
   ]
  },
  {
   "cell_type": "code",
   "execution_count": 6,
   "metadata": {},
   "outputs": [
    {
     "name": "stdout",
     "output_type": "stream",
     "text": [
      "Mean Distance: 0.09336103625483097\n",
      "Median Distance: 0.058125739479895674\n",
      "Standard Deviation: 0.10059548882487157\n"
     ]
    }
   ],
   "source": [
    "from scipy.spatial import KDTree\n",
    "import sensor_msgs.point_cloud2 as pc2\n",
    "\n",
    "def compute_distances(source_points, target_points):\n",
    "    tree = KDTree(target_points)\n",
    "    distances, _ = tree.query(source_points)\n",
    "    return distances[distances < 0.5]\n",
    "\n",
    "# Assuming you have the PointCloud2 messages for the laser scan and camera\n",
    "# laser_scan_cloud and camera_cloud are the PointCloud2 messages\n",
    "\n",
    "# Convert your ROS PointCloud2 messages to numpy arrays\n",
    "laser_scan_points = np.asarray(laser_pcd.points)\n",
    "camera_points = np.asarray(map_pcd.points)\n",
    "\n",
    "# Compute nearest neighbor distances from camera points to laser scan points\n",
    "distances = compute_distances(camera_points, laser_scan_points)\n",
    "\n",
    "# Compute statistics\n",
    "mean_distance = np.mean(distances)\n",
    "median_distance = np.median(distances)\n",
    "std_distance = np.std(distances)\n",
    "\n",
    "print(f\"Mean Distance: {mean_distance}\")\n",
    "print(f\"Median Distance: {median_distance}\")\n",
    "print(f\"Standard Deviation: {std_distance}\")\n"
   ]
  },
  {
   "cell_type": "code",
   "execution_count": null,
   "metadata": {},
   "outputs": [],
   "source": []
  },
  {
   "cell_type": "code",
   "execution_count": null,
   "metadata": {},
   "outputs": [],
   "source": []
  }
 ],
 "metadata": {
  "kernelspec": {
   "display_name": "ros_env",
   "language": "python",
   "name": "python3"
  },
  "language_info": {
   "codemirror_mode": {
    "name": "ipython",
    "version": 3
   },
   "file_extension": ".py",
   "mimetype": "text/x-python",
   "name": "python",
   "nbconvert_exporter": "python",
   "pygments_lexer": "ipython3",
   "version": "3.10.12"
  }
 },
 "nbformat": 4,
 "nbformat_minor": 2
}
