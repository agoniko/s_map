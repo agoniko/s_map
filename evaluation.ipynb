{
 "cells": [
  {
   "cell_type": "markdown",
   "metadata": {},
   "source": [
    "### Importing GT"
   ]
  },
  {
   "cell_type": "code",
   "execution_count": 1,
   "metadata": {},
   "outputs": [
    {
     "name": "stderr",
     "output_type": "stream",
     "text": [
      "/usr/lib/python3/dist-packages/scipy/__init__.py:146: UserWarning: A NumPy version >=1.17.3 and <1.25.0 is required for this version of SciPy (detected version 1.26.4\n",
      "  warnings.warn(f\"A NumPy version >={np_minversion} and <{np_maxversion}\"\n"
     ]
    }
   ],
   "source": [
    "import json\n",
    "import numpy as np\n",
    "from scipy.spatial.transform import Rotation as R"
   ]
  },
  {
   "cell_type": "code",
   "execution_count": 2,
   "metadata": {},
   "outputs": [],
   "source": [
    "def create_obb_from_description(centroid, dimensions, rotations):\n",
    "    # Extract centroid, dimensions, and rotations\n",
    "    cx, cy, cz = centroid[\"x\"], centroid[\"y\"], centroid[\"z\"]\n",
    "    length, width, height = dimensions[\"length\"], dimensions[\"width\"], dimensions[\"height\"]\n",
    "    rx, ry, rz = rotations[\"x\"], rotations[\"y\"], rotations[\"z\"]\n",
    "\n",
    "    # Create the 8 corners of the box before rotation and translation\n",
    "    dx = length / 2\n",
    "    dy = width / 2\n",
    "    dz = height / 2\n",
    "\n",
    "    corners = np.array([\n",
    "        [-dx, -dy, -dz],\n",
    "        [ dx, -dy, -dz],\n",
    "        [ dx,  dy, -dz],\n",
    "        [-dx,  dy, -dz],\n",
    "        [-dx, -dy,  dz],\n",
    "        [ dx, -dy,  dz],\n",
    "        [ dx,  dy,  dz],\n",
    "        [-dx,  dy,  dz]\n",
    "    ])\n",
    "\n",
    "    # Apply rotations\n",
    "    rotation = R.from_euler('xyz', [rx, ry, rz], degrees=True)\n",
    "    rotated_corners = rotation.apply(corners)\n",
    "\n",
    "    # Apply translation (centroid)\n",
    "    translated_corners = rotated_corners + np.array([cx, cy, cz])\n",
    "\n",
    "    return translated_corners"
   ]
  },
  {
   "cell_type": "code",
   "execution_count": 4,
   "metadata": {},
   "outputs": [],
   "source": [
    "gt = json.load(open('../../labels/rtabmap_cloud.json'))\n",
    "for obj in gt['objects']:\n",
    "    obj['bbox'] = create_obb_from_description(obj['centroid'], obj['dimensions'], obj['rotations']).tolist()"
   ]
  },
  {
   "cell_type": "code",
   "execution_count": 5,
   "metadata": {},
   "outputs": [],
   "source": [
    "predictions = json.load(open('predictions.json'))\n",
    "predicted_objects = predictions['objects']\n",
    "\n",
    "for obj in predicted_objects:\n",
    "    obj['bbox'] = np.array(obj['OBB']).reshape(8, 3)\n",
    "    obj['points'] = np.array(obj['points']).reshape(-1, 3)"
   ]
  },
  {
   "cell_type": "markdown",
   "metadata": {},
   "source": [
    "## Visualize PC and BBoxes"
   ]
  },
  {
   "cell_type": "code",
   "execution_count": 6,
   "metadata": {},
   "outputs": [
    {
     "name": "stdout",
     "output_type": "stream",
     "text": [
      "Jupyter environment detected. Enabling Open3D WebVisualizer.\n",
      "[Open3D INFO] WebRTC GUI backend enabled.\n",
      "[Open3D INFO] WebRTCWindowSystem: HTTP handshake server disabled.\n"
     ]
    }
   ],
   "source": [
    "import open3d as o3d\n",
    "PC_PATH = '../../pointclouds/rtabmap_cloud.ply'\n",
    "\n",
    "# Load the point cloud from a .ply file\n",
    "pcd = o3d.io.read_point_cloud(PC_PATH)"
   ]
  },
  {
   "cell_type": "code",
   "execution_count": 7,
   "metadata": {},
   "outputs": [],
   "source": [
    "# Load GT bboxes\n",
    "gt_boxes = []\n",
    "for obj in gt['objects']:\n",
    "    v = o3d.utility.Vector3dVector(obj['bbox'])\n",
    "    bbox = o3d.geometry.OrientedBoundingBox.create_from_points(v)\n",
    "    bbox.color = [0, 1, 0]\n",
    "    gt_boxes.append(bbox)\n",
    "\n",
    "# Load predicted bboxes\n",
    "pred_boxes = []\n",
    "for obj in predicted_objects:\n",
    "    v = o3d.utility.Vector3dVector(obj['bbox'])\n",
    "    try:\n",
    "        bbox = o3d.geometry.OrientedBoundingBox.create_from_points(v)\n",
    "        bbox.color = [1, 0, 0]\n",
    "        pred_boxes.append(bbox)\n",
    "    except:\n",
    "        pass"
   ]
  },
  {
   "cell_type": "code",
   "execution_count": 8,
   "metadata": {},
   "outputs": [],
   "source": [
    "# Visualize the point cloud\n",
    "o3d.visualization.draw_geometries([pcd, *gt_boxes, *pred_boxes])"
   ]
  },
  {
   "cell_type": "code",
   "execution_count": 9,
   "metadata": {},
   "outputs": [],
   "source": [
    "def compute_3d_iou(box1, box2):\n",
    "    \"\"\"\n",
    "    Compute the Intersection over Union (IoU) of two 3D boxes.\n",
    "\n",
    "    Parameters:\n",
    "    - box1: (8, 3) numpy array of vertices for the first box.\n",
    "    - box2: (8, 3) numpy array of vertices for the second box.\n",
    "\n",
    "    Returns:\n",
    "    - float: the IoU of the two boxes.\n",
    "    \"\"\"\n",
    "    # Extract the min and max points\n",
    "    min_point1 = np.min(box1, axis=0)\n",
    "    max_point1 = np.max(box1, axis=0)\n",
    "    min_point2 = np.min(box2, axis=0)\n",
    "    max_point2 = np.max(box2, axis=0)\n",
    "\n",
    "    # Calculate intersection bounds\n",
    "    inter_min = np.maximum(min_point1, min_point2)\n",
    "    inter_max = np.minimum(max_point1, max_point2)\n",
    "    inter_dims = np.maximum(inter_max - inter_min, 0)\n",
    "\n",
    "    # Intersection volume\n",
    "    inter_volume = np.prod(inter_dims)\n",
    "\n",
    "    # Volumes of the individual boxes\n",
    "    volume1 = np.prod(max_point1 - min_point1)\n",
    "    volume2 = np.prod(max_point2 - min_point2)\n",
    "\n",
    "    # Union volume\n",
    "    union_volume = volume1 + volume2 - inter_volume\n",
    "\n",
    "    # Intersection over Union\n",
    "    iou = inter_volume / union_volume if union_volume != 0 else 0\n",
    "\n",
    "    return iou"
   ]
  },
  {
   "cell_type": "code",
   "execution_count": 10,
   "metadata": {},
   "outputs": [
    {
     "data": {
      "text/plain": [
       "(array([20, 18,  6,  9,  4,  3,  2, 19,  0, 20, 17, 16, 14, 12, 12, 22, 10,\n",
       "        10]),\n",
       " array([ 0,  0,  6,  5,  4,  7,  2,  9, 13,  3, 16,  0, 13, 14, 12, 11, 11,\n",
       "        10,  1,  7,  0,  2, 15,  0,  0,  0,  0,  0, 15,  0,  0,  0]))"
      ]
     },
     "execution_count": 10,
     "metadata": {},
     "output_type": "execute_result"
    }
   ],
   "source": [
    "# Associating GT and predicted objects\n",
    "iou_matrix = np.zeros((len(gt_boxes), len(pred_boxes)))\n",
    "for i, gt_box in enumerate(gt_boxes):\n",
    "    for j, pred_box in enumerate(pred_boxes):\n",
    "        iou_matrix[i, j] = compute_3d_iou(np.array(gt_box.get_box_points()), np.array(pred_box.get_box_points()))\n",
    "\n",
    "# Find the best match for each GT object\n",
    "gt_matches = np.argmax(iou_matrix, axis=1)\n",
    "pred_matches = np.argmax(iou_matrix, axis=0)\n",
    "\n",
    "gt_matches, pred_matches"
   ]
  },
  {
   "cell_type": "code",
   "execution_count": 11,
   "metadata": {},
   "outputs": [],
   "source": [
    "# drawing only matching bboxes\n",
    "matching_gt_boxes = [gt_boxes[i] for i in set(pred_matches)]\n",
    "matching_pred_boxes = [pred_boxes[j] for j in set(gt_matches)]\n",
    "\n",
    "o3d.visualization.draw_geometries([pcd, *matching_gt_boxes, *matching_pred_boxes])"
   ]
  },
  {
   "cell_type": "code",
   "execution_count": 12,
   "metadata": {},
   "outputs": [],
   "source": [
    "# compute precision, recall, f1\n",
    "\n",
    "def compute_precision_recall_f1(gt_boxes, pred_boxes, iou_threshold=0.5):\n",
    "    \"\"\"\n",
    "    Compute the precision, recall, and F1 score of the predicted boxes.\n",
    "\n",
    "    Parameters:\n",
    "    - gt_boxes: list of GT boxes.\n",
    "    - pred_boxes: list of predicted boxes.\n",
    "    - iou_threshold: IoU threshold for a match.\n",
    "\n",
    "    Returns:\n",
    "    - float: precision.\n",
    "    - float: recall.\n",
    "    - float: F1 score.\n",
    "    \"\"\"\n",
    "    # Compute the IoU matrix\n",
    "    iou_matrix = np.zeros((len(gt_boxes), len(pred_boxes)))\n",
    "    for i, gt_box in enumerate(gt_boxes):\n",
    "        for j, pred_box in enumerate(pred_boxes):\n",
    "            iou_matrix[i, j] = compute_3d_iou(np.array(gt_box.get_box_points()), np.array(pred_box.get_box_points()))\n",
    "\n",
    "    # Find the best match for each GT object\n",
    "    gt_matches = np.argmax(iou_matrix, axis=1)\n",
    "    pred_matches = np.argmax(iou_matrix, axis=0)\n",
    "\n",
    "    # Compute the number of true positives\n",
    "    tp = np.sum(iou_matrix[np.arange(len(gt_boxes)), gt_matches] > iou_threshold)\n",
    "\n",
    "    # Compute precision, recall, and F1\n",
    "    precision = tp / len(pred_boxes) if len(pred_boxes) != 0 else 0\n",
    "    recall = tp / len(gt_boxes) if len(gt_boxes) != 0 else 0\n",
    "    f1 = 2 * precision * recall / (precision + recall) if precision + recall != 0 else 0\n",
    "\n",
    "    return precision, recall, f1"
   ]
  },
  {
   "cell_type": "code",
   "execution_count": 13,
   "metadata": {},
   "outputs": [
    {
     "data": {
      "text/plain": [
       "(0.15625, 0.2777777777777778, 0.19999999999999998)"
      ]
     },
     "execution_count": 13,
     "metadata": {},
     "output_type": "execute_result"
    }
   ],
   "source": [
    "precision, recall, f1 = compute_precision_recall_f1(gt_boxes, pred_boxes)\n",
    "precision, recall, f1"
   ]
  },
  {
   "cell_type": "code",
   "execution_count": 15,
   "metadata": {},
   "outputs": [
    {
     "data": {
      "text/plain": [
       "dict_keys(['folder', 'filename', 'path', 'objects'])"
      ]
     },
     "execution_count": 15,
     "metadata": {},
     "output_type": "execute_result"
    }
   ],
   "source": [
    "gt.keys()"
   ]
  },
  {
   "cell_type": "code",
   "execution_count": 17,
   "metadata": {},
   "outputs": [],
   "source": [
    "save_me = {}\n",
    "for key in gt.keys():\n",
    "    if key != 'objects':\n",
    "        save_me[key] = gt[key]\n",
    "    else:\n",
    "        save_me['objects'] = []\n",
    "        for obj in gt['objects']:\n",
    "            save_me['objects'].append({\n",
    "                'name': obj['name'],\n",
    "                'centroid': obj['centroid'],\n",
    "                'dimensions': obj['dimensions'],\n",
    "                'rotations': obj['rotations'],\n",
    "            })"
   ]
  },
  {
   "cell_type": "code",
   "execution_count": 19,
   "metadata": {},
   "outputs": [],
   "source": [
    "with open('gt.json', 'w') as f:\n",
    "    json.dump(save_me, f)"
   ]
  },
  {
   "cell_type": "code",
   "execution_count": null,
   "metadata": {},
   "outputs": [],
   "source": []
  }
 ],
 "metadata": {
  "kernelspec": {
   "display_name": "Python 3",
   "language": "python",
   "name": "python3"
  },
  "language_info": {
   "codemirror_mode": {
    "name": "ipython",
    "version": 3
   },
   "file_extension": ".py",
   "mimetype": "text/x-python",
   "name": "python",
   "nbconvert_exporter": "python",
   "pygments_lexer": "ipython3",
   "version": "3.10.12"
  }
 },
 "nbformat": 4,
 "nbformat_minor": 2
}
