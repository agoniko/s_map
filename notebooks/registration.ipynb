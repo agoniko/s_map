{
 "cells": [
  {
   "cell_type": "code",
   "execution_count": 1,
   "metadata": {},
   "outputs": [
    {
     "name": "stdout",
     "output_type": "stream",
     "text": [
      "Jupyter environment detected. Enabling Open3D WebVisualizer.\n",
      "[Open3D INFO] WebRTC GUI backend enabled.\n",
      "[Open3D INFO] WebRTCWindowSystem: HTTP handshake server disabled.\n"
     ]
    },
    {
     "name": "stderr",
     "output_type": "stream",
     "text": [
      "/usr/lib/python3/dist-packages/scipy/__init__.py:146: UserWarning: A NumPy version >=1.17.3 and <1.25.0 is required for this version of SciPy (detected version 1.26.4\n",
      "  warnings.warn(f\"A NumPy version >={np_minversion} and <{np_maxversion}\"\n"
     ]
    }
   ],
   "source": [
    "import open3d as o3d\n",
    "\n",
    "import json\n",
    "import numpy as np\n",
    "from scipy.spatial.transform import Rotation as R\n",
    "from compas.geometry import oriented_bounding_box_numpy\n",
    "#from pytorch3d.ops import box3d_overlap\n",
    "import torch\n",
    "import os\n",
    "import open3d as o3d\n",
    "\n",
    "IOU_THRESHOLD = 0.2\n",
    "LABEL_FOLDER = \"./\"\n",
    "\n",
    "reg_json = [f for f in os.listdir(LABEL_FOLDER) if f.endswith('.json') and \"no\" not in f and \"registration\" in f][0]\n",
    "not_reg_json = [f for f in os.listdir(LABEL_FOLDER) if f.endswith('.json') and \"no\" in f and \"registration\" in f][0]\n",
    "\n",
    "reg_json = json.load(open(os.path.join(LABEL_FOLDER, reg_json)))\n",
    "not_reg_json = json.load(open(os.path.join(LABEL_FOLDER, not_reg_json)))"
   ]
  },
  {
   "cell_type": "code",
   "execution_count": 2,
   "metadata": {},
   "outputs": [
    {
     "data": {
      "text/plain": [
       "[[0.0, 0.0, 0.0],\n",
       " [1.0, 0.0, 0.0],\n",
       " [1.0, 1.0, 0.0],\n",
       " [0.0, 1.0, 0.0],\n",
       " [0.0, 0.0, 1.0],\n",
       " [1.0, 0.0, 1.0],\n",
       " [1.0, 1.0, 1.0],\n",
       " [0.0, 1.0, 1.0]]"
      ]
     },
     "execution_count": 2,
     "metadata": {},
     "output_type": "execute_result"
    }
   ],
   "source": [
    "points_unit = [\n",
    "        [0, 0, 0],\n",
    "        [1, 0, 0],\n",
    "        [1, 1, 0],\n",
    "        [0, 1, 0],\n",
    "        [0, 0, 1],\n",
    "        [1, 0, 1],\n",
    "        [1, 1, 1],\n",
    "        [0, 1, 1],\n",
    "    ]\n",
    "box = oriented_bounding_box_numpy(np.array(points_unit))\n",
    "box"
   ]
  },
  {
   "cell_type": "code",
   "execution_count": 3,
   "metadata": {},
   "outputs": [],
   "source": [
    "def reorder_vertices(box):\n",
    "    \"\"\"\n",
    "    A unit cube, defined with the pythorch3d convention, has the following vertices:\n",
    "        [0, 0, 0],                    (4) +---------+. (5)\n",
    "        [1, 0, 0],                        | ` .     |  ` .\n",
    "        [1, 1, 0],                        | (0) +---+-----+ (1)\n",
    "        [0, 1, 0],                        |     |   |     |\n",
    "        [0, 0, 1],                    (7) +-----+---+. (6)|\n",
    "        [1, 0, 1],                        ` .   |     ` . |\n",
    "        [1, 1, 1],                        (3) ` +---------+ (2)\n",
    "        [0, 1, 1],\n",
    "    \n",
    "    While the OrientedBoundingBox from Open3D has the following vertices:\n",
    "       [0, 0, 0],\n",
    "       [1, 0, 0],\n",
    "       [0, 1, 0],\n",
    "       [0, 0, 1],\n",
    "       [1, 1, 1],\n",
    "       [0, 1, 1],\n",
    "       [1, 0, 1],\n",
    "       [1, 1, 0]\n",
    "\n",
    "    This function reorders the vertices of the OrientedBoundingBox to match the pytorch3d convention.\n",
    "    This allows to use the official IoU function from Pytorch3D.\n",
    "    \"\"\"\n",
    "    assert box.shape == (8, 3)\n",
    "\n",
    "    reordered = [\n",
    "        box[0], box[1], box[7], box[2],\n",
    "        box[3], box[6], box[4], box[5]\n",
    "    ]\n",
    "    return np.array(reordered)"
   ]
  },
  {
   "cell_type": "code",
   "execution_count": 35,
   "metadata": {},
   "outputs": [
    {
     "data": {
      "text/plain": [
       "PointCloud with 953 points."
      ]
     },
     "execution_count": 35,
     "metadata": {},
     "output_type": "execute_result"
    }
   ],
   "source": [
    "for obj in reg_json['objects'][7:]:\n",
    "    if obj['label'] == \"chair\":\n",
    "        couch_reg = obj\n",
    "        break\n",
    "\n",
    "for obj in not_reg_json['objects'][7:]:\n",
    "    if obj['label'] == \"chair\":\n",
    "        couch_not_reg = obj\n",
    "        break\n",
    "\n",
    "couch_reg_pcd = o3d.geometry.PointCloud()\n",
    "couch_not_reg_pcd = o3d.geometry.PointCloud()\n",
    "\n",
    "couch_reg_pcd.points = o3d.utility.Vector3dVector(np.array(couch_reg['points']).reshape(-1, 3))\n",
    "couch_not_reg_pcd.points = o3d.utility.Vector3dVector(np.array(couch_not_reg['points']).reshape(-1, 3))\n",
    "couch_not_reg_pcd.translate(np.array([1.0, 1.0, 0]))\n"
   ]
  },
  {
   "cell_type": "code",
   "execution_count": 36,
   "metadata": {},
   "outputs": [],
   "source": [
    "def create_mesh(pcd):\n",
    "    radii = [0.005, 0.01, 0.02, 0.04, 0.08, 0.12, 0.16, 0.2, 0.25, 1]\n",
    "    pcd.estimate_normals()\n",
    "    rec_mesh = o3d.geometry.TriangleMesh.create_from_point_cloud_ball_pivoting(\n",
    "        pcd, o3d.utility.DoubleVector(radii))\n",
    "    return rec_mesh"
   ]
  },
  {
   "cell_type": "code",
   "execution_count": 37,
   "metadata": {},
   "outputs": [],
   "source": [
    "def custom_draw_geometry(reg, not_reg):\n",
    "    vis = o3d.visualization.Visualizer()\n",
    "    vis.create_window()\n",
    "\n",
    "    #color pcd\n",
    "    reg.paint_uniform_color([1, 0, 0])\n",
    "    not_reg.paint_uniform_color([0, 1, 0])\n",
    "\n",
    "    vis.add_geometry(reg)\n",
    "    vis.add_geometry(not_reg)\n",
    "\n",
    "    vis.run()\n",
    "    vis.destroy_window()"
   ]
  },
  {
   "cell_type": "code",
   "execution_count": 38,
   "metadata": {},
   "outputs": [],
   "source": [
    "custom_draw_geometry(couch_reg_pcd, couch_not_reg_pcd)"
   ]
  },
  {
   "cell_type": "code",
   "execution_count": 90,
   "metadata": {},
   "outputs": [],
   "source": [
    "reg_mesh = create_mesh(couch_reg_pcd)\n",
    "not_reg_mesh = create_mesh(couch_not_reg_pcd)\n",
    "custom_draw_geometry(reg_mesh, not_reg_mesh)"
   ]
  },
  {
   "cell_type": "code",
   "execution_count": null,
   "metadata": {},
   "outputs": [],
   "source": []
  }
 ],
 "metadata": {
  "kernelspec": {
   "display_name": "Python 3",
   "language": "python",
   "name": "python3"
  },
  "language_info": {
   "codemirror_mode": {
    "name": "ipython",
    "version": 3
   },
   "file_extension": ".py",
   "mimetype": "text/x-python",
   "name": "python",
   "nbconvert_exporter": "python",
   "pygments_lexer": "ipython3",
   "version": "3.11.8"
  }
 },
 "nbformat": 4,
 "nbformat_minor": 2
}
