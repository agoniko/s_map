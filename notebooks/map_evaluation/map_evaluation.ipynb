{
 "cells": [
  {
   "cell_type": "code",
   "execution_count": 21,
   "metadata": {},
   "outputs": [],
   "source": [
    "import open3d as o3d\n",
    "import numpy as np\n",
    "\n",
    "LASER_PATH = \"pointclouds/accumulated_laserscan_scene7.ply\"\n",
    "MAP_PATH = \"../../labelCloud/pointclouds/cloud_scene7.ply\"\n",
    "\n",
    "laser_pcd = o3d.io.read_point_cloud(LASER_PATH)\n",
    "map_pcd = o3d.io.read_point_cloud(MAP_PATH)\n",
    "\n",
    "laser_pcd.paint_uniform_color([1, 0, 0])\n",
    "#map_pcd.paint_uniform_color([0, 1, 0])\n",
    "\n",
    "o3d.visualization.draw_geometries([laser_pcd, map_pcd])"
   ]
  },
  {
   "cell_type": "code",
   "execution_count": 15,
   "metadata": {},
   "outputs": [
    {
     "data": {
      "text/plain": [
       "array([0.2], dtype=float16)"
      ]
     },
     "execution_count": 15,
     "metadata": {},
     "output_type": "execute_result"
    }
   ],
   "source": [
    "uniques_values = np.unique(np.asarray(laser_pcd.points, dtype=np.float16)[:, 2])\n",
    "uniques_values"
   ]
  },
  {
   "cell_type": "code",
   "execution_count": 17,
   "metadata": {},
   "outputs": [],
   "source": [
    "z = np.array(laser_pcd.points)[0, 2]\n",
    "slack = 0.01\n",
    "\n",
    "map_points = np.array(map_pcd.points)\n",
    "map_points = map_points[map_points[:, 2] >= z - slack]\n",
    "map_points = map_points[map_points[:, 2] <= z + slack]\n",
    "#map_points[:, 2] = z\n",
    "\n",
    "map_pcd.points = o3d.utility.Vector3dVector(map_points)\n",
    "map_pcd.paint_uniform_color([0, 1, 0])\n",
    "\n",
    "o3d.visualization.draw_geometries([laser_pcd, map_pcd])"
   ]
  },
  {
   "cell_type": "code",
   "execution_count": 20,
   "metadata": {},
   "outputs": [
    {
     "name": "stdout",
     "output_type": "stream",
     "text": [
      "Mean Distance: 0.05751469240990484\n",
      "Median Distance: 0.035514221243927696\n",
      "Standard Deviation: 0.06481701338712968\n"
     ]
    }
   ],
   "source": [
    "from scipy.spatial import KDTree\n",
    "import sensor_msgs.point_cloud2 as pc2\n",
    "\n",
    "def compute_distances(source_points, target_points):\n",
    "    tree = KDTree(target_points)\n",
    "    distances, _ = tree.query(source_points)\n",
    "    return distances\n",
    "\n",
    "\n",
    "laser_scan_points = np.asarray(laser_pcd.points)\n",
    "camera_points = np.asarray(map_pcd.points)\n",
    "\n",
    "# Compute nearest neighbor distances from camera points to laser scan points\n",
    "distances = compute_distances(camera_points, laser_scan_points)\n",
    "\n",
    "# Compute statistics\n",
    "mean_distance = np.mean(distances)\n",
    "median_distance = np.median(distances)\n",
    "std_distance = np.std(distances)\n",
    "\n",
    "print(f\"Mean Distance: {mean_distance}\")\n",
    "print(f\"Median Distance: {median_distance}\")\n",
    "print(f\"Standard Deviation: {std_distance}\")\n"
   ]
  },
  {
   "cell_type": "code",
   "execution_count": null,
   "metadata": {},
   "outputs": [],
   "source": []
  },
  {
   "cell_type": "code",
   "execution_count": null,
   "metadata": {},
   "outputs": [],
   "source": []
  }
 ],
 "metadata": {
  "kernelspec": {
   "display_name": "ros_env",
   "language": "python",
   "name": "python3"
  },
  "language_info": {
   "codemirror_mode": {
    "name": "ipython",
    "version": 3
   },
   "file_extension": ".py",
   "mimetype": "text/x-python",
   "name": "python",
   "nbconvert_exporter": "python",
   "pygments_lexer": "ipython3",
   "version": "3.11.8"
  }
 },
 "nbformat": 4,
 "nbformat_minor": 2
}
