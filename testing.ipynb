{
 "cells": [
  {
   "cell_type": "code",
   "execution_count": 1,
   "metadata": {},
   "outputs": [
    {
     "name": "stdout",
     "output_type": "stream",
     "text": [
      "Float Matrix:\n",
      "[[2293.49910635  389.16763554 2132.32396135]\n",
      " [1011.14718031 1389.81602721 1518.75763354]\n",
      " [ 766.3138944   379.57143874  845.71224458]]\n",
      "\n",
      "Mask Matrix:\n",
      "[[0 0 1]\n",
      " [1 0 1]\n",
      " [0 0 0]]\n",
      "\n",
      "Result Matrix:\n",
      "[[   0.            0.         2132.32396135]\n",
      " [1011.14718031    0.         1518.75763354]\n",
      " [   0.            0.            0.        ]]\n"
     ]
    }
   ],
   "source": [
    "import numpy as np\n",
    "\n",
    "# Generate random float matrix and mask matrix\n",
    "float_matrix = np.random.rand(3, 3) * 2999.0  # Example matrix of size 3x3\n",
    "mask_matrix = np.random.randint(2, size=(3, 3), dtype=np.uint8)  # Example mask matrix of size 3x3 with 0s and 1s\n",
    "\n",
    "# Perform element-wise multiplication\n",
    "result_matrix = float_matrix * mask_matrix\n",
    "\n",
    "print(\"Float Matrix:\")\n",
    "print(float_matrix)\n",
    "print(\"\\nMask Matrix:\")\n",
    "print(mask_matrix)\n",
    "print(\"\\nResult Matrix:\")\n",
    "print(result_matrix)"
   ]
  },
  {
   "cell_type": "code",
   "execution_count": null,
   "metadata": {},
   "outputs": [
    {
     "ename": "",
     "evalue": "",
     "output_type": "error",
     "traceback": [
      "\u001b[1;31mSi è verificato un arresto anomalo del Kernel durante l'esecuzione del codice nella cella attiva o in una cella precedente. \n",
      "\u001b[1;31mEsaminare il codice nelle celle per identificare una possibile causa dell'errore. \n",
      "\u001b[1;31mPer altre informazioni, fare clic<a href='https://aka.ms/vscodeJupyterKernelCrash'>qui</a>. \n",
      "\u001b[1;31mPer ulteriori dettagli, visualizzare Jupyter <a href='command:jupyter.viewOutput'>log</a>."
     ]
    }
   ],
   "source": [
    "import cv2\n",
    "from ultralytics import YOLO\n",
    "import torch\n",
    "import numpy as np\n",
    "\n",
    "model = YOLO(\"./models/yolov8m-seg.pt\")\n",
    "device = torch.device(\"mps\")\n",
    "while True:\n",
    "    # Capture frame-by-frame\n",
    "    cap = cv2.VideoCapture(0)\n",
    "    ret, frame = cap.read()\n",
    "    results = next(\n",
    "        model.track(\n",
    "            frame,\n",
    "            device=device,\n",
    "            stream=True,\n",
    "            conf=0.5,\n",
    "            verbose=False,\n",
    "            persist=True,\n",
    "            tracker=\"bytetrack.yaml\",\n",
    "        )\n",
    "    )\n",
    "\n",
    "    if results.masks:\n",
    "        xy = results.masks.xy\n",
    "        masks = np.zeros((len(xy), *frame.shape[:2]), dtype=np.uint8)\n",
    "        print(masks.shape)\n",
    "        for i, pts in enumerate(xy):\n",
    "            pts = np.array(pts, dtype = np.int32).reshape(-1, 2)\n",
    "            cv2.fillPoly(masks[i], [pts], 1)\n",
    "\n",
    "        \n",
    "    # Display the resulting frame\n",
    "    cv2.imshow(\"frame\", frame)\n",
    "    if cv2.waitKey(1) & 0xFF == ord(\"q\"):\n",
    "        break"
   ]
  },
  {
   "cell_type": "code",
   "execution_count": null,
   "metadata": {},
   "outputs": [],
   "source": []
  }
 ],
 "metadata": {
  "kernelspec": {
   "display_name": "ros_env",
   "language": "python",
   "name": "python3"
  },
  "language_info": {
   "codemirror_mode": {
    "name": "ipython",
    "version": 3
   },
   "file_extension": ".py",
   "mimetype": "text/x-python",
   "name": "python",
   "nbconvert_exporter": "python",
   "pygments_lexer": "ipython3",
   "version": "3.11.8"
  }
 },
 "nbformat": 4,
 "nbformat_minor": 2
}
