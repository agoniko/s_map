{
 "cells": [
  {
   "cell_type": "code",
   "execution_count": 1,
   "metadata": {},
   "outputs": [],
   "source": [
    "from sunrgbd import SunRGBD_Dataset\n",
    "import cv2\n",
    "import numpy as np\n",
    "from cameramodels import PinholeCameraModel\n",
    "import open3d as o3d\n",
    "from PIL import Image\n",
    "\n",
    "DATASET_PATH = \"SUNRGBD/kv1/NYUdata/\"\n",
    "data = SunRGBD_Dataset(DATASET_PATH)"
   ]
  },
  {
   "cell_type": "code",
   "execution_count": 109,
   "metadata": {},
   "outputs": [],
   "source": [
    "def get_pointcloud(depth_image, intrinsics, extrinsics = None, R = np.eye(3)):\n",
    "    camera = PinholeCameraModel(depth_image.shape[0], depth_image.shape[1], intrinsics, extrinsics, R = R)\n",
    "    depth_image = camera.rectify_image(depth_image, interpolation=Image.NEAREST)\n",
    "    pc = camera.depth_to_points(depth_image)\n",
    "    pc = pc.reshape(-1, 3)\n",
    "    idx = np.argwhere(pc == np.array([0, 0, 0]))\n",
    "    pc = np.delete(pc, idx, axis=0) / 10000\n",
    "    return pc"
   ]
  },
  {
   "cell_type": "code",
   "execution_count": 2,
   "metadata": {},
   "outputs": [],
   "source": [
    "rec = data.records[200]\n",
    "n = rec.get_number_of_objects()\n",
    "ann_2d = rec.get_segments_2d()\n",
    "depth_image = cv2.imread(rec.depth_path, cv2.IMREAD_UNCHANGED)\n",
    "rgb_image = cv2.imread(rec.image_path)\n",
    "K, Rt = rec.intrinsics.reshape(3, 3), rec.extrinsics\n",
    "estrinsics = np.eye(4)\n",
    "estrinsics[:3, :] = Rt\n",
    "P = np.dot(K, Rt)\n",
    "R = Rt[:, :3]"
   ]
  },
  {
   "cell_type": "code",
   "execution_count": 10,
   "metadata": {},
   "outputs": [
    {
     "data": {
      "text/plain": [
       "array([[ 0.999677, -0.023916, -0.006473,  0.      ],\n",
       "       [ 0.024777,  0.964971,  0.261185,  0.      ],\n",
       "       [-0.      , -0.261261,  0.965251,  0.      ],\n",
       "       [ 0.      ,  0.      ,  0.      ,  1.      ]])"
      ]
     },
     "execution_count": 10,
     "metadata": {},
     "output_type": "execute_result"
    }
   ],
   "source": [
    "estrinsics"
   ]
  },
  {
   "cell_type": "code",
   "execution_count": 11,
   "metadata": {},
   "outputs": [
    {
     "data": {
      "text/plain": [
       "array([[518.857901,   0.      , 284.582449],\n",
       "       [  0.      , 519.469611, 208.736166],\n",
       "       [  0.      ,   0.      ,   1.      ]])"
      ]
     },
     "execution_count": 11,
     "metadata": {},
     "output_type": "execute_result"
    }
   ],
   "source": [
    "K"
   ]
  },
  {
   "cell_type": "code",
   "execution_count": 4,
   "metadata": {},
   "outputs": [],
   "source": [
    "camera = o3d.camera.PinholeCameraIntrinsic(depth_image.shape[1], depth_image.shape[0], K)\n",
    "depth_image = cv2.imread(rec.depth_path, cv2.IMREAD_UNCHANGED)\n",
    "depth_image = o3d.geometry.Image(depth_image)"
   ]
  },
  {
   "cell_type": "code",
   "execution_count": 5,
   "metadata": {},
   "outputs": [],
   "source": [
    "pc = o3d.geometry.PointCloud.create_from_depth_image(depth_image, camera, estrinsics, depth_scale=10000.0, depth_trunc=10000.0)"
   ]
  },
  {
   "cell_type": "code",
   "execution_count": 145,
   "metadata": {},
   "outputs": [
    {
     "name": "stdout",
     "output_type": "stream",
     "text": [
      "std::vector<Eigen::Vector3d> with 8 elements.\n",
      "Use numpy.asarray() to access data.\n"
     ]
    }
   ],
   "source": [
    "room = o3d.utility.Vector3dVector(rec.get_room_polygon())\n",
    "print(room)\n",
    "room_obb = o3d.geometry.OrientedBoundingBox.create_from_points(room)\n",
    "room_obb.color = (1, 0, 0)"
   ]
  },
  {
   "cell_type": "code",
   "execution_count": 7,
   "metadata": {},
   "outputs": [],
   "source": [
    "def project_box(box, K, estrinsics):\n",
    "    homo_box = np.hstack((box, np.ones((box.shape[0], 1))))\n",
    "    box_world_frame = homo_box @ estrinsics.T\n",
    "    return box_world_frame[:, :3]\n"
   ]
  },
  {
   "cell_type": "code",
   "execution_count": 12,
   "metadata": {},
   "outputs": [
    {
     "name": "stdout",
     "output_type": "stream",
     "text": [
      "[[ 0.11212933  0.79943195  3.7250849 ]\n",
      " [ 0.11212933  0.34943192  3.7250849 ]\n",
      " [-0.01916831  0.79943195  3.15670871]\n",
      " [-0.01916831  0.34943192  3.15670871]\n",
      " [-0.46697985  0.79943195  3.2601553 ]\n",
      " [-0.46697985  0.34943192  3.2601553 ]\n",
      " [-0.33568222  0.79943195  3.82853149]\n",
      " [-0.33568222  0.34943192  3.82853149]]\n",
      "[[0.41029568 0.79943195 3.95556033]\n",
      " [0.41029568 0.37443192 3.95556033]\n",
      " [1.00916657 0.79943195 3.91700275]\n",
      " [1.00916657 0.37443192 3.91700275]\n",
      " [1.04772419 0.79943195 4.51587362]\n",
      " [1.04772419 0.37443192 4.51587362]\n",
      " [0.4488533  0.79943195 4.55443121]\n",
      " [0.4488533  0.37443192 4.55443121]]\n",
      "[[-0.30118127  1.29943199  2.71391339]\n",
      " [-0.30118127  0.33693192  2.71391339]\n",
      " [ 1.81801818  1.29943199  4.03775412]\n",
      " [ 1.81801818  0.33693192  4.03775412]\n",
      " [ 1.25511398  1.29943199  4.93884913]\n",
      " [ 1.25511398  0.33693192  4.93884913]\n",
      " [-0.86408547  1.29943199  3.61500841]\n",
      " [-0.86408547  0.33693192  3.61500841]]\n",
      "[[-0.4207549   1.31193199  2.59634269]\n",
      " [-0.4207549   0.47443193  2.59634269]\n",
      " [ 0.09050511  1.31193199  1.82510478]\n",
      " [ 0.09050511  0.47443193  1.82510478]\n",
      " [-0.65953062  1.31193199  1.32708954]\n",
      " [-0.65953062  0.47443193  1.32708954]\n",
      " [-1.17079064  1.31193199  2.09832745]\n",
      " [-1.17079064  0.47443193  2.09832745]]\n",
      "[[ 0.1660216   1.31193199  1.7985888 ]\n",
      " [ 0.1660216   0.48693193  1.7985888 ]\n",
      " [ 0.73026083  1.31193199  0.94254195]\n",
      " [ 0.73026083  0.48693193  0.94254195]\n",
      " [-0.07278049  1.31193199  0.41141469]\n",
      " [-0.07278049  0.48693193  0.41141469]\n",
      " [-0.63701973  1.31193199  1.26746154]\n",
      " [-0.63701973  0.48693193  1.26746154]]\n",
      "[[0.27253504 1.26193198 2.76280844]\n",
      " [0.27253504 0.71193195 2.76280844]\n",
      " [1.21611417 1.26193198 3.57765632]\n",
      " [1.21611417 0.71193195 3.57765632]\n",
      " [1.71383766 1.26193198 3.00130153]\n",
      " [1.71383766 0.71193195 3.00130153]\n",
      " [0.78096422 1.26193198 2.18311308]\n",
      " [0.78096422 0.71193195 2.18311308]]\n",
      "[[-0.9719867   1.28693199  2.3698987 ]\n",
      " [-0.9719867   0.19943191  2.3698987 ]\n",
      " [-0.37036662  1.28693199  2.7752003 ]\n",
      " [-0.37036662  0.19943191  2.7752003 ]\n",
      " [-0.81540261  1.28693199  3.44042704]\n",
      " [-0.81540261  0.19943191  3.44042704]\n",
      " [-1.41702269  1.28693199  3.03512543]\n",
      " [-1.41702269  0.19943191  3.03512543]]\n",
      "[[-0.07547971  0.17443191  4.08844033]\n",
      " [-0.07547971 -0.92556817  4.08844033]\n",
      " [ 0.54422204  0.17443191  4.48915537]\n",
      " [ 0.54422204 -0.92556817  4.48915537]\n",
      " [ 0.46491517  0.17443191  4.61180265]\n",
      " [ 0.46491517 -0.92556817  4.61180265]\n",
      " [-0.15478658  0.17443191  4.21108762]\n",
      " [-0.15478658 -0.92556817  4.21108762]]\n",
      "[[-1.52504915 -0.16306812  3.11368326]\n",
      " [-1.52504915 -0.55056814  3.11368326]\n",
      " [-1.77845173 -0.16306812  2.95538544]\n",
      " [-1.77845173 -0.55056814  2.95538544]\n",
      " [-1.81878818 -0.16306812  3.01995589]\n",
      " [-1.81878818 -0.55056814  3.01995589]\n",
      " [-1.5653856  -0.16306812  3.17825371]\n",
      " [-1.5653856  -0.55056814  3.17825371]]\n"
     ]
    }
   ],
   "source": [
    "obbs = []\n",
    "for oi in range(n):\n",
    "    ot = rec.get_object_type_by_index(oi)\n",
    "    if ot is not None and rec.is_polygon_a_box(oi):\n",
    "        obb = np.array(rec.get_object_polygon_by_index(oi))\n",
    "        print(obb)\n",
    "        #obb = project_box(obb, K, estrinsics)\n",
    "        OBB = o3d.geometry.OrientedBoundingBox.create_from_points(o3d.utility.Vector3dVector(obb))\n",
    "        OBB.color = (0, 1, 0)\n",
    "        obbs.append(OBB)"
   ]
  },
  {
   "cell_type": "code",
   "execution_count": 9,
   "metadata": {},
   "outputs": [],
   "source": [
    "o3d.visualization.draw_geometries([pc,  *obbs])"
   ]
  },
  {
   "cell_type": "code",
   "execution_count": 12,
   "metadata": {},
   "outputs": [
    {
     "data": {
      "text/plain": [
       "array([[-67.42678348, -61.81937082, 139.        ],\n",
       "       [-67.1586085 , -61.81937082, 139.        ],\n",
       "       [-66.89043352, -61.81937082, 139.        ],\n",
       "       ...,\n",
       "       [ 62.80922801,  26.81239447, 114.        ],\n",
       "       [ 63.02917008,  26.81239447, 114.        ],\n",
       "       [ 63.24911215,  26.81239447, 114.        ]])"
      ]
     },
     "execution_count": 12,
     "metadata": {},
     "output_type": "execute_result"
    }
   ],
   "source": [
    "pc"
   ]
  },
  {
   "cell_type": "code",
   "execution_count": 129,
   "metadata": {},
   "outputs": [
    {
     "name": "stdout",
     "output_type": "stream",
     "text": [
      "OrientedBoundingBox: center: (1.20222, 0.305637, 4.80608), extent: 2.59025, 2.34004, 0.0301937)\n",
      "OrientedBoundingBox: center: (-0.157601, 0.253691, 4.87155), extent: 2.24958, 1.09703, 0.0871501)\n",
      "OrientedBoundingBox: center: (-1.63629, 0.197048, 4.98765), extent: 2.84801, 2.33859, 0.0301098)\n",
      "OrientedBoundingBox: center: (-3.49622, 0.169737, 4.32253), extent: 2.83357, 2.17853, 0.0871013)\n",
      "OrientedBoundingBox: center: (-0.0858239, 0.903439, 3.934), extent: 1.01072, 1.00911, 0.991217)\n",
      "OrientedBoundingBox: center: (1.7488, 1.09112, 3.83969), extent: 0.977363, 0.923484, 0.762722)\n",
      "OrientedBoundingBox: center: (-0.446544, 1.02256, 2.65252), extent: 1.39076, 0.766873, 0.561257)\n",
      "OrientedBoundingBox: center: (-0.76212, 1.03241, 1.90839), extent: 1.30078, 0.723958, 0.636936)\n"
     ]
    }
   ],
   "source": [
    "for obb in obbs:\n",
    "    print(obb)"
   ]
  },
  {
   "cell_type": "code",
   "execution_count": 130,
   "metadata": {},
   "outputs": [
    {
     "data": {
      "text/plain": [
       "(array([ 6.96082212,  1.36095281, 17.22674124]),\n",
       " array([-8.22514367, -9.61407465,  5.87761238]))"
      ]
     },
     "execution_count": 130,
     "metadata": {},
     "output_type": "execute_result"
    }
   ],
   "source": [
    "np.asarray(pc.points).max(axis = 0), np.asarray(pc.points).min(axis = 0)"
   ]
  },
  {
   "cell_type": "code",
   "execution_count": 1,
   "metadata": {},
   "outputs": [
    {
     "ename": "AssertionError",
     "evalue": "MMCV==2.2.0 is used but incompatible. Please install mmcv>=2.0.0rc4, <2.2.0.",
     "output_type": "error",
     "traceback": [
      "\u001b[0;31m---------------------------------------------------------------------------\u001b[0m",
      "\u001b[0;31mAssertionError\u001b[0m                            Traceback (most recent call last)",
      "\u001b[1;32m/Users/nicoloagostara/catkin_ws/src/s_map/notebooks/box_estimation/dataset.ipynb Cella 15\u001b[0m line \u001b[0;36m2\n\u001b[1;32m      <a href='vscode-notebook-cell:/Users/nicoloagostara/catkin_ws/src/s_map/notebooks/box_estimation/dataset.ipynb#X20sZmlsZQ%3D%3D?line=0'>1</a>\u001b[0m \u001b[39mimport\u001b[39;00m \u001b[39mnumpy\u001b[39;00m \u001b[39mas\u001b[39;00m \u001b[39mnp\u001b[39;00m\n\u001b[0;32m----> <a href='vscode-notebook-cell:/Users/nicoloagostara/catkin_ws/src/s_map/notebooks/box_estimation/dataset.ipynb#X20sZmlsZQ%3D%3D?line=1'>2</a>\u001b[0m \u001b[39mfrom\u001b[39;00m \u001b[39mmmdet3d\u001b[39;00m\u001b[39m.\u001b[39;00m\u001b[39mdatasets\u001b[39;00m \u001b[39mimport\u001b[39;00m build_dataset\n\u001b[1;32m      <a href='vscode-notebook-cell:/Users/nicoloagostara/catkin_ws/src/s_map/notebooks/box_estimation/dataset.ipynb#X20sZmlsZQ%3D%3D?line=2'>3</a>\u001b[0m \u001b[39mfrom\u001b[39;00m \u001b[39mmmcv\u001b[39;00m \u001b[39mimport\u001b[39;00m Config\n\u001b[1;32m      <a href='vscode-notebook-cell:/Users/nicoloagostara/catkin_ws/src/s_map/notebooks/box_estimation/dataset.ipynb#X20sZmlsZQ%3D%3D?line=4'>5</a>\u001b[0m \u001b[39m# Load the configuration file\u001b[39;00m\n",
      "File \u001b[0;32m~/catkin_ws/src/s_map/notebooks/box_estimation/mmdetection3d/mmdet3d/__init__.py:3\u001b[0m\n\u001b[1;32m      1\u001b[0m \u001b[39m# Copyright (c) OpenMMLab. All rights reserved.\u001b[39;00m\n\u001b[1;32m      2\u001b[0m \u001b[39mimport\u001b[39;00m \u001b[39mmmcv\u001b[39;00m\n\u001b[0;32m----> 3\u001b[0m \u001b[39mimport\u001b[39;00m \u001b[39mmmdet\u001b[39;00m\n\u001b[1;32m      4\u001b[0m \u001b[39mimport\u001b[39;00m \u001b[39mmmengine\u001b[39;00m\n\u001b[1;32m      5\u001b[0m \u001b[39mfrom\u001b[39;00m \u001b[39mmmengine\u001b[39;00m\u001b[39m.\u001b[39;00m\u001b[39mutils\u001b[39;00m \u001b[39mimport\u001b[39;00m digit_version\n",
      "File \u001b[0;32m~/miniforge3/envs/mmdet/lib/python3.9/site-packages/mmdet/__init__.py:16\u001b[0m\n\u001b[1;32m     13\u001b[0m mmengine_maximum_version \u001b[39m=\u001b[39m \u001b[39m'\u001b[39m\u001b[39m1.0.0\u001b[39m\u001b[39m'\u001b[39m\n\u001b[1;32m     14\u001b[0m mmengine_version \u001b[39m=\u001b[39m digit_version(mmengine\u001b[39m.\u001b[39m__version__)\n\u001b[0;32m---> 16\u001b[0m \u001b[39massert\u001b[39;00m (mmcv_version \u001b[39m>\u001b[39m\u001b[39m=\u001b[39m digit_version(mmcv_minimum_version)\n\u001b[1;32m     17\u001b[0m         \u001b[39mand\u001b[39;00m mmcv_version \u001b[39m<\u001b[39m digit_version(mmcv_maximum_version)), \\\n\u001b[1;32m     18\u001b[0m     \u001b[39mf\u001b[39m\u001b[39m'\u001b[39m\u001b[39mMMCV==\u001b[39m\u001b[39m{\u001b[39;00mmmcv\u001b[39m.\u001b[39m__version__\u001b[39m}\u001b[39;00m\u001b[39m is used but incompatible. \u001b[39m\u001b[39m'\u001b[39m \\\n\u001b[1;32m     19\u001b[0m     \u001b[39mf\u001b[39m\u001b[39m'\u001b[39m\u001b[39mPlease install mmcv>=\u001b[39m\u001b[39m{\u001b[39;00mmmcv_minimum_version\u001b[39m}\u001b[39;00m\u001b[39m, <\u001b[39m\u001b[39m{\u001b[39;00mmmcv_maximum_version\u001b[39m}\u001b[39;00m\u001b[39m.\u001b[39m\u001b[39m'\u001b[39m\n\u001b[1;32m     21\u001b[0m \u001b[39massert\u001b[39;00m (mmengine_version \u001b[39m>\u001b[39m\u001b[39m=\u001b[39m digit_version(mmengine_minimum_version)\n\u001b[1;32m     22\u001b[0m         \u001b[39mand\u001b[39;00m mmengine_version \u001b[39m<\u001b[39m digit_version(mmengine_maximum_version)), \\\n\u001b[1;32m     23\u001b[0m     \u001b[39mf\u001b[39m\u001b[39m'\u001b[39m\u001b[39mMMEngine==\u001b[39m\u001b[39m{\u001b[39;00mmmengine\u001b[39m.\u001b[39m__version__\u001b[39m}\u001b[39;00m\u001b[39m is used but incompatible. \u001b[39m\u001b[39m'\u001b[39m \\\n\u001b[1;32m     24\u001b[0m     \u001b[39mf\u001b[39m\u001b[39m'\u001b[39m\u001b[39mPlease install mmengine>=\u001b[39m\u001b[39m{\u001b[39;00mmmengine_minimum_version\u001b[39m}\u001b[39;00m\u001b[39m, \u001b[39m\u001b[39m'\u001b[39m \\\n\u001b[1;32m     25\u001b[0m     \u001b[39mf\u001b[39m\u001b[39m'\u001b[39m\u001b[39m<\u001b[39m\u001b[39m{\u001b[39;00mmmengine_maximum_version\u001b[39m}\u001b[39;00m\u001b[39m.\u001b[39m\u001b[39m'\u001b[39m\n\u001b[1;32m     27\u001b[0m __all__ \u001b[39m=\u001b[39m [\u001b[39m'\u001b[39m\u001b[39m__version__\u001b[39m\u001b[39m'\u001b[39m, \u001b[39m'\u001b[39m\u001b[39mversion_info\u001b[39m\u001b[39m'\u001b[39m, \u001b[39m'\u001b[39m\u001b[39mdigit_version\u001b[39m\u001b[39m'\u001b[39m]\n",
      "\u001b[0;31mAssertionError\u001b[0m: MMCV==2.2.0 is used but incompatible. Please install mmcv>=2.0.0rc4, <2.2.0."
     ]
    }
   ],
   "source": [
    "import numpy as np\n",
    "from mmdet3d.datasets import build_dataset\n",
    "from mmcv import Config\n",
    "\n",
    "# Load the configuration file\n",
    "cfg = Config.fromfile('configs/sunrgbd/pointpillars_hv_secfpn_sunrgbd-3d-10class.py')\n",
    "\n",
    "# Modify dataset paths if necessary\n",
    "cfg.data.train.data_root = '/path/to/output_dir/'\n",
    "cfg.data.train.ann_file = cfg.data.train.data_root + 'sunrgbd_infos_train.pkl'\n",
    "cfg.data.val.data_root = '/path/to/output_dir/'\n",
    "cfg.data.val.ann_file = cfg.data.val.data_root + 'sunrgbd_infos_val.pkl'\n",
    "cfg.data.test.data_root = '/path/to/output_dir/'\n",
    "cfg.data.test.ann_file = cfg.data.test.data_root + 'sunrgbd_infos_test.pkl'\n",
    "\n",
    "# Build the dataset\n",
    "dataset = build_dataset(cfg.data.train)\n",
    "\n",
    "# Extract point clouds and bounding boxes\n",
    "for i in range(len(dataset)):\n",
    "    # Get data\n",
    "    data = dataset[i]\n",
    "    \n",
    "    # Extract point clouds\n",
    "    points = data['points'].data.numpy()\n",
    "    \n",
    "    # Extract bounding boxes\n",
    "    gt_bboxes_3d = data['gt_bboxes_3d'].tensor.numpy()\n",
    "    gt_labels_3d = data['gt_labels_3d'].numpy()\n",
    "    \n",
    "    # Print or process the point clouds and bounding boxes\n",
    "    print(f'Point cloud {i}:', points)\n",
    "    print(f'Bounding boxes {i}:', gt_bboxes_3d)\n",
    "    print(f'Labels {i}:', gt_labels_3d)\n",
    "    \n",
    "    # Process the data as needed\n",
    "    # For example, you can visualize or save the data here"
   ]
  },
  {
   "cell_type": "code",
   "execution_count": null,
   "metadata": {},
   "outputs": [
    {
     "data": {
      "text/plain": [
       "array([[ 0.999677, -0.023916, -0.006473,  0.      ],\n",
       "       [ 0.024777,  0.964971,  0.261185,  0.      ],\n",
       "       [-0.      , -0.261261,  0.965251,  0.      ],\n",
       "       [ 0.      ,  0.      ,  0.      ,  1.      ]])"
      ]
     },
     "metadata": {},
     "output_type": "display_data"
    }
   ],
   "source": [
    "estrinsics"
   ]
  }
 ],
 "metadata": {
  "kernelspec": {
   "display_name": "ros_env",
   "language": "python",
   "name": "python3"
  },
  "language_info": {
   "codemirror_mode": {
    "name": "ipython",
    "version": 3
   },
   "file_extension": ".py",
   "mimetype": "text/x-python",
   "name": "python",
   "nbconvert_exporter": "python",
   "pygments_lexer": "ipython3",
   "version": "3.9.19"
  }
 },
 "nbformat": 4,
 "nbformat_minor": 2
}
