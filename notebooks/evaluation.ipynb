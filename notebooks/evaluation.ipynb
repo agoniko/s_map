{
 "cells": [
  {
   "cell_type": "markdown",
   "metadata": {},
   "source": [
    "### Importing GT"
   ]
  },
  {
   "cell_type": "code",
   "execution_count": 1,
   "metadata": {},
   "outputs": [],
   "source": [
    "import json\n",
    "import numpy as np\n",
    "from scipy.spatial.transform import Rotation as R"
   ]
  },
  {
   "cell_type": "code",
   "execution_count": 2,
   "metadata": {},
   "outputs": [],
   "source": [
    "def create_obb_from_description(centroid, dimensions, rotations):\n",
    "    # Extract centroid, dimensions, and rotations\n",
    "    cx, cy, cz = centroid[\"x\"], centroid[\"y\"], centroid[\"z\"]\n",
    "    length, width, height = dimensions[\"length\"], dimensions[\"width\"], dimensions[\"height\"]\n",
    "    rx, ry, rz = rotations[\"x\"], rotations[\"y\"], rotations[\"z\"]\n",
    "\n",
    "    # Create the 8 corners of the box before rotation and translation\n",
    "    dx = length / 2\n",
    "    dy = width / 2\n",
    "    dz = height / 2\n",
    "\n",
    "    corners = np.array([\n",
    "        [-dx, -dy, -dz],\n",
    "        [ dx, -dy, -dz],\n",
    "        [ dx,  dy, -dz],\n",
    "        [-dx,  dy, -dz],\n",
    "        [-dx, -dy,  dz],\n",
    "        [ dx, -dy,  dz],\n",
    "        [ dx,  dy,  dz],\n",
    "        [-dx,  dy,  dz]\n",
    "    ])\n",
    "\n",
    "    # Apply rotations\n",
    "    rotation = R.from_euler('xyz', [rx, ry, rz], degrees=True)\n",
    "    rotated_corners = rotation.apply(corners)\n",
    "\n",
    "    # Apply translation (centroid)\n",
    "    translated_corners = rotated_corners + np.array([cx, cy, cz])\n",
    "\n",
    "    return translated_corners"
   ]
  },
  {
   "cell_type": "code",
   "execution_count": 3,
   "metadata": {},
   "outputs": [],
   "source": [
    "gt = json.load(open('../labelCloud/labels/rtabmap_cloud.json'))\n",
    "for obj in gt['objects']:\n",
    "    obj['bbox'] = create_obb_from_description(obj['centroid'], obj['dimensions'], obj['rotations']).tolist()"
   ]
  },
  {
   "cell_type": "code",
   "execution_count": 4,
   "metadata": {},
   "outputs": [],
   "source": [
    "predictions = json.load(open('predictions.json'))\n",
    "predicted_objects = predictions['objects']\n",
    "\n",
    "for obj in predicted_objects:\n",
    "    obj['bbox'] = np.array(obj['OBB']).reshape(8, 3)\n",
    "    obj['points'] = np.array(obj['points']).reshape(-1, 3)"
   ]
  },
  {
   "cell_type": "markdown",
   "metadata": {},
   "source": [
    "## Visualize PC and BBoxes"
   ]
  },
  {
   "cell_type": "code",
   "execution_count": 6,
   "metadata": {},
   "outputs": [],
   "source": [
    "import open3d as o3d\n",
    "PC_PATH = '../labelCloud/pointclouds/rtabmap_cloud.ply'\n",
    "\n",
    "# Load the point cloud from a .ply file\n",
    "pcd = o3d.io.read_point_cloud(PC_PATH)"
   ]
  },
  {
   "cell_type": "code",
   "execution_count": 7,
   "metadata": {},
   "outputs": [],
   "source": [
    "class Obj:\n",
    "    def __init__(self, label, bbox):\n",
    "        assert isinstance(label, str)\n",
    "        assert isinstance(bbox, o3d.geometry.OrientedBoundingBox)\n",
    "        self.label = label\n",
    "        self.bbox = bbox  # instance of o3d.geometry.OrientedBoundingBox\n",
    "\n",
    "\n",
    "class Gt_Obj(Obj):\n",
    "    def __init__(self, label, bbox):\n",
    "        super().__init__(label, bbox)\n",
    "        self.points = None\n",
    "        self.centroid = np.mean(bbox.get_box_points(), axis=0)\n",
    "\n",
    "class Pred_Obj(Obj):\n",
    "    def __init__(self, label, bbox, points):\n",
    "        super().__init__(label, bbox)\n",
    "        self.points = points\n",
    "        self.centroid = np.mean(points, axis=0)\n",
    "\n",
    "\n",
    "class ObjList:\n",
    "    def __init__(self, objects: list):\n",
    "        assert isinstance(objects, list)\n",
    "        assert all(isinstance(obj, Obj) for obj in objects)\n",
    "        self.objects = objects\n",
    "\n",
    "    def __getitem__(self, key):\n",
    "        return self.objects[key]\n",
    "\n",
    "    def __len__(self):\n",
    "        return len(self.objects)\n",
    "\n",
    "    def get_boxes_list(self):\n",
    "        return [obj.bbox for obj in self.objects]"
   ]
  },
  {
   "cell_type": "code",
   "execution_count": 8,
   "metadata": {},
   "outputs": [],
   "source": [
    "# Load GT bboxes\n",
    "gt_boxes = []\n",
    "for obj in gt[\"objects\"]:\n",
    "    v = o3d.utility.Vector3dVector(obj[\"bbox\"])\n",
    "    bbox = o3d.geometry.OrientedBoundingBox.create_from_points(v)\n",
    "    bbox.color = [0, 1, 0]\n",
    "    gt_boxes.append(Gt_Obj(obj[\"name\"], bbox))\n",
    "\n",
    "# Load predicted bboxes\n",
    "pred_boxes = []\n",
    "for obj in predicted_objects:\n",
    "    bbox = np.array(obj[\"OBB\"]).reshape(8, 3)\n",
    "    v = o3d.utility.Vector3dVector(bbox)\n",
    "    if np.sum(bbox) == 0:\n",
    "        continue\n",
    "    try:\n",
    "        bbox = o3d.geometry.OrientedBoundingBox.create_from_points(v)\n",
    "        bbox.color = [1, 0, 0]\n",
    "        pred_boxes.append(Pred_Obj(obj[\"label\"], bbox, obj[\"points\"]))\n",
    "    except:\n",
    "        pass\n",
    "\n",
    "gt_objects = ObjList(gt_boxes)\n",
    "pred_objects = ObjList(pred_boxes)"
   ]
  },
  {
   "cell_type": "code",
   "execution_count": 9,
   "metadata": {},
   "outputs": [],
   "source": [
    "def custom_draw_geometry(pcd, gt_objects, pred_objects):\n",
    "    vis = o3d.visualization.Visualizer()\n",
    "    vis.create_window()\n",
    "    vis.add_geometry(pcd)\n",
    "\n",
    "    for obj in gt_objects:\n",
    "        vis.add_geometry(obj.bbox)\n",
    "\n",
    "    for obj in pred_objects:\n",
    "        vis.add_geometry(obj.bbox)\n",
    "\n",
    "    vis.run()\n",
    "    vis.destroy_window()"
   ]
  },
  {
   "cell_type": "code",
   "execution_count": 10,
   "metadata": {},
   "outputs": [],
   "source": [
    "custom_draw_geometry(pcd, gt_objects, pred_objects)"
   ]
  },
  {
   "cell_type": "code",
   "execution_count": 10,
   "metadata": {},
   "outputs": [],
   "source": [
    "def compute_3d_iou(box1, box2):\n",
    "    \"\"\"\n",
    "    Compute the Intersection over Union (IoU) of two 3D boxes.\n",
    "\n",
    "    Parameters:\n",
    "    - box1: (8, 3) numpy array of vertices for the first box.\n",
    "    - box2: (8, 3) numpy array of vertices for the second box.\n",
    "\n",
    "    Returns:\n",
    "    - float: the IoU of the two boxes.\n",
    "    \"\"\"\n",
    "    # Extract the min and max points\n",
    "    min_point1 = np.min(box1, axis=0)\n",
    "    max_point1 = np.max(box1, axis=0)\n",
    "    min_point2 = np.min(box2, axis=0)\n",
    "    max_point2 = np.max(box2, axis=0)\n",
    "\n",
    "    # Calculate intersection bounds\n",
    "    inter_min = np.maximum(min_point1, min_point2)\n",
    "    inter_max = np.minimum(max_point1, max_point2)\n",
    "    inter_dims = np.maximum(inter_max - inter_min, 0)\n",
    "\n",
    "    # Intersection volume\n",
    "    inter_volume = np.prod(inter_dims)\n",
    "\n",
    "    # Volumes of the individual boxes\n",
    "    volume1 = np.prod(max_point1 - min_point1)\n",
    "    volume2 = np.prod(max_point2 - min_point2)\n",
    "\n",
    "    # Union volume\n",
    "    union_volume = volume1 + volume2 - inter_volume\n",
    "\n",
    "    # Intersection over Union\n",
    "    iou = inter_volume / union_volume if union_volume != 0 else 0\n",
    "\n",
    "    return iou"
   ]
  },
  {
   "cell_type": "code",
   "execution_count": 46,
   "metadata": {},
   "outputs": [],
   "source": [
    "import matplotlib.pyplot as plt\n",
    "\n",
    "\n",
    "# Associating GT and predicted objects\n",
    "def compute_3d_iou_matrix(gt_boxes, pred_boxes):\n",
    "    \"\"\"\n",
    "    Compute the 3D IoU matrix between GT and predicted objects.\n",
    "\n",
    "    Parameters:\n",
    "    - gt_boxes: list of GT OrientedBoundingBox objects.\n",
    "    - pred_boxes: list of predicted OrientedBoundingBox objects.\n",
    "\n",
    "    Returns:\n",
    "    - numpy array: 2D array where element (i, j) is the IoU between GT object i and predicted object j.\n",
    "    \"\"\"\n",
    "    iou_matrix = np.zeros((len(gt_boxes), len(pred_boxes)))\n",
    "    for i, gt_box in enumerate(gt_boxes):\n",
    "        for j, pred_box in enumerate(pred_boxes):\n",
    "            iou_matrix[i, j] = compute_3d_iou(\n",
    "                np.array(gt_box.get_box_points()), np.array(pred_box.get_box_points())\n",
    "            )\n",
    "    return iou_matrix\n",
    "\n",
    "\n",
    "def get_matches(gt_objects, pred_objects, iou_threshold=0.5):\n",
    "    \"\"\"\n",
    "    Get the matched GT and predicted objects.\n",
    "    returns:\n",
    "     - matched_couples: list of dictionaries containing the matched GT and predicted objects and their IoU.\n",
    "     - phantom_predictions: list of predicted objects that have no match.\n",
    "     - missed_gt: list of GT objects that have no match.\n",
    "    \"\"\"\n",
    "\n",
    "    gt_boxes = gt_objects.get_boxes_list()\n",
    "    pred_boxes = pred_objects.get_boxes_list()\n",
    "    iou_matrix = compute_3d_iou_matrix(gt_boxes, pred_boxes)\n",
    "\n",
    "    matches = []\n",
    "    for i, j in zip(*np.where(iou_matrix > iou_threshold)):\n",
    "        matches.append({\"gt\": i, \"pred\": j, \"iou\": iou_matrix[i, j]})\n",
    "    matches = sorted(matches, key=lambda x: x[\"iou\"], reverse=True)\n",
    "\n",
    "    matched_gt = set()\n",
    "    matched_preds = set()\n",
    "    matched_couples = []\n",
    "    for match in matches:\n",
    "        if match[\"gt\"] not in matched_gt and match[\"pred\"] not in matched_preds:\n",
    "            matched_gt.add(match[\"gt\"])\n",
    "            matched_preds.add(match[\"pred\"])\n",
    "            matched_couples.append(\n",
    "                {\n",
    "                    \"gt\": gt_objects[match[\"gt\"]],\n",
    "                    \"pred\": pred_objects[match[\"pred\"]],\n",
    "                    \"iou\": match[\"iou\"],\n",
    "                }\n",
    "            )\n",
    "\n",
    "    phantom_preds = [pred_objects[i] for i in range(len(pred_objects)) if i not in matched_preds]\n",
    "    missed_gt = [gt_objects[i] for i in range(len(gt_objects)) if i not in matched_gt]\n",
    "\n",
    "    ious = [match[\"iou\"] for match in matched_couples]\n",
    "    assert len(ious) == len(set(ious))\n",
    "    assert len(matched_couples) + len(phantom_preds) == len(pred_objects)\n",
    "    assert len(matched_couples) + len(missed_gt) == len(gt_objects)\n",
    "\n",
    "    return matched_couples, phantom_preds, missed_gt\n",
    "\n",
    "matching, phantom_preds, missed_gt = get_matches(gt_objects, pred_objects, 0.80)"
   ]
  },
  {
   "cell_type": "code",
   "execution_count": 32,
   "metadata": {},
   "outputs": [],
   "source": [
    "custom_draw_geometry(pcd, ObjList(phantom_preds), ObjList(missed_gt))"
   ]
  },
  {
   "cell_type": "code",
   "execution_count": 47,
   "metadata": {},
   "outputs": [
    {
     "data": {
      "text/plain": [
       "(1, 31, 17)"
      ]
     },
     "execution_count": 47,
     "metadata": {},
     "output_type": "execute_result"
    }
   ],
   "source": [
    "len(matching), len(phantom_preds), len(missed_gt)"
   ]
  },
  {
   "cell_type": "code",
   "execution_count": 35,
   "metadata": {},
   "outputs": [
    {
     "data": {
      "text/plain": [
       "0.7119326029687233"
      ]
     },
     "execution_count": 35,
     "metadata": {},
     "output_type": "execute_result"
    }
   ],
   "source": [
    "ious = [match[\"iou\"] for match in matching]\n",
    "np.mean(ious)"
   ]
  },
  {
   "cell_type": "code",
   "execution_count": 36,
   "metadata": {},
   "outputs": [
    {
     "data": {
      "text/plain": [
       "(0.3157894736842105,\n",
       " 0.375,\n",
       " 0.6666666666666666,\n",
       " 0.4800000000000001,\n",
       " 0.46821079405023663)"
      ]
     },
     "execution_count": 36,
     "metadata": {},
     "output_type": "execute_result"
    }
   ],
   "source": [
    "# compute precision, recall, f1\n",
    "\n",
    "def compute_metrics(gt_objects, pred_objects, iou_threshold = 0.1, iou_avg_method=np.mean):\n",
    "    \"\"\"\n",
    "    Computes: accuracy, precision, recall, F1 score and avg_iou (for matched_couples).\n",
    "    matches: list of dictionaries containing the matched GT and predicted objects.\n",
    "    missed_gt: number of GT objects that have no match.\n",
    "    phantom_pred: number of predicted objects that have no match.\n",
    "    \"\"\"\n",
    "    matches, phantom_pred, missed_gt = get_matches(gt_objects, pred_objects, iou_threshold)\n",
    "    correct_matches = sum([match['gt'].label == match['pred'].label for match in matches])\n",
    "    non_correct_matches = len(matches) - correct_matches\n",
    "    avg_iou = iou_avg_method([match['iou'] for match in matches])\n",
    "\n",
    "    TP = correct_matches\n",
    "    FP = len(phantom_pred) + non_correct_matches\n",
    "    FN = len(missed_gt)\n",
    "\n",
    "    accuracy = TP / (TP + FP + FN)\n",
    "    precision = TP / (TP + FP) if TP + FP != 0 else 0\n",
    "    recall = TP / (TP + FN) if TP + FN != 0 else 0\n",
    "    f1 = 2 * precision * recall / (precision + recall) if precision + recall != 0 else 0\n",
    "\n",
    "    return accuracy, precision, recall, f1, avg_iou\n",
    "\n",
    "compute_metrics(gt_objects, pred_objects)"
   ]
  },
  {
   "cell_type": "code",
   "execution_count": 68,
   "metadata": {},
   "outputs": [
    {
     "name": "stdout",
     "output_type": "stream",
     "text": [
      "AP: 0.21599264705882354\n"
     ]
    },
    {
     "name": "stderr",
     "output_type": "stream",
     "text": [
      "/Users/nicoloagostara/miniforge3/envs/ros_env/lib/python3.11/site-packages/numpy/core/fromnumeric.py:3432: RuntimeWarning: Mean of empty slice.\n",
      "  return _methods._mean(a, axis=axis, dtype=dtype,\n",
      "/Users/nicoloagostara/miniforge3/envs/ros_env/lib/python3.11/site-packages/numpy/core/_methods.py:190: RuntimeWarning: invalid value encountered in double_scalars\n",
      "  ret = ret.dtype.type(ret / rcount)\n"
     ]
    }
   ],
   "source": [
    "def compute_average_precision(gt_objects, pred_objects, iou_thresholds=np.linspace(0, 0.9, 9)):\n",
    "    precisions = []\n",
    "    recalls = []\n",
    "\n",
    "    for threshold in iou_thresholds:\n",
    "        _, precision, recall, _, _ = compute_metrics(gt_objects, pred_objects, iou_threshold=threshold)\n",
    "        precisions.append(precision)\n",
    "        recalls.append(recall)\n",
    "\n",
    "    # Sort by recall to integrate\n",
    "    recall_precision_pairs = sorted(zip(recalls, precisions), key=lambda x: x[0])\n",
    "    recalls_sorted, precisions_sorted = zip(*recall_precision_pairs)\n",
    "\n",
    "    # Compute average precision using the trapezoidal rule\n",
    "    average_precision = np.trapz(precisions_sorted, recalls_sorted)\n",
    "\n",
    "    return average_precision, recalls_sorted, precisions_sorted\n",
    "\n",
    "# Example usage\n",
    "average_precision, recalls, precisions = compute_average_precision(gt_objects, pred_objects)\n",
    "print(f\"AP: {average_precision}\")"
   ]
  },
  {
   "cell_type": "code",
   "execution_count": 89,
   "metadata": {},
   "outputs": [
    {
     "data": {
      "image/png": "[encoded data removed]",
      "text/plain": [
       "<Figure size 1000x300 with 1 Axes>"
      ]
     },
     "metadata": {},
     "output_type": "display_data"
    }
   ],
   "source": [
    "import matplotlib.pyplot as plt\n",
    "\n",
    "fig, ax = plt.subplots(1, 1, figsize=(10, 3))\n",
    "ax.plot(recalls, precisions)\n",
    "ax.set_xlim([0, 0.9])\n",
    "ax.set_ylim([0, 0.9])\n",
    "ax.set_xlabel(\"Recall\")\n",
    "ax.set_ylabel(\"Precision\")\n",
    "ax.set_title(\"Precision-Recall curve\")\n",
    "plt.show()"
   ]
  },
  {
   "cell_type": "code",
   "execution_count": null,
   "metadata": {},
   "outputs": [],
   "source": []
  }
 ],
 "metadata": {
  "kernelspec": {
   "display_name": "Python 3",
   "language": "python",
   "name": "python3"
  },
  "language_info": {
   "codemirror_mode": {
    "name": "ipython",
    "version": 3
   },
   "file_extension": ".py",
   "mimetype": "text/x-python",
   "name": "python",
   "nbconvert_exporter": "python",
   "pygments_lexer": "ipython3",
   "version": "3.11.8"
  }
 },
 "nbformat": 4,
 "nbformat_minor": 2
}
