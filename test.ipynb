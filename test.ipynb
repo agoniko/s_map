{
 "cells": [
  {
   "cell_type": "code",
   "execution_count": 27,
   "metadata": {},
   "outputs": [
    {
     "data": {
      "text/plain": [
       "array([[0, 0, 0, 1, 0],\n",
       "       [0, 0, 1, 1, 0],\n",
       "       [0, 0, 0, 1, 0],\n",
       "       [0, 0, 1, 1, 0],\n",
       "       [0, 0, 0, 1, 0]])"
      ]
     },
     "execution_count": 27,
     "metadata": {},
     "output_type": "execute_result"
    }
   ],
   "source": [
    "import numpy as np\n",
    "\n",
    "#create a binary mask with 0 and 1\n",
    "#mask = np.random.randint(0, 2, (5, 5))\n",
    "mask = np.array([[0, 0, 0, 1, 0],[0, 0, 1, 1, 0],[0, 0, 0, 1, 0],[0, 0, 1, 1, 0],[0, 0, 0, 1, 0]])\n",
    "mask"
   ]
  },
  {
   "cell_type": "code",
   "execution_count": 26,
   "metadata": {},
   "outputs": [
    {
     "data": {
      "text/plain": [
       "(2, 3, 0, 4)"
      ]
     },
     "execution_count": 26,
     "metadata": {},
     "output_type": "execute_result"
    }
   ],
   "source": [
    "#I want to find the minimum x index where mask is equal to 1\n",
    "#I want to find the maximum x index where mask is equal to 1\n",
    "xmin = np.min(np.where(mask == 1)[1])\n",
    "xmax = np.max(np.where(mask == 1)[1])\n",
    "ymin = np.min(np.where(mask == 1)[0])\n",
    "ymax = np.max(np.where(mask == 1)[0])\n",
    "xmin, xmax, ymin, ymax"
   ]
  },
  {
   "cell_type": "code",
   "execution_count": 28,
   "metadata": {},
   "outputs": [
    {
     "data": {
      "text/plain": [
       "(2, 0, 3, 4)"
      ]
     },
     "execution_count": 28,
     "metadata": {},
     "output_type": "execute_result"
    }
   ],
   "source": [
    "ymin, xmin = np.min(np.argwhere(mask), axis=0)\n",
    "ymax, xmax = np.max(np.argwhere(mask), axis=0)\n",
    "xmin, ymin, xmax, ymax"
   ]
  },
  {
   "cell_type": "code",
   "execution_count": 43,
   "metadata": {},
   "outputs": [
    {
     "data": {
      "text/plain": [
       "2.0"
      ]
     },
     "execution_count": 43,
     "metadata": {},
     "output_type": "execute_result"
    }
   ],
   "source": [
    "0.1 / (1 / 20)"
   ]
  },
  {
   "cell_type": "code",
   "execution_count": 44,
   "metadata": {},
   "outputs": [
    {
     "data": {
      "text/plain": [
       "7.2"
      ]
     },
     "execution_count": 44,
     "metadata": {},
     "output_type": "execute_result"
    }
   ],
   "source": [
    "2*3.6\n"
   ]
  },
  {
   "cell_type": "code",
   "execution_count": 37,
   "metadata": {},
   "outputs": [
    {
     "name": "stdout",
     "output_type": "stream",
     "text": [
      "time to build tree:  1.783308982849121e-05\n"
     ]
    }
   ],
   "source": [
    "from scipy.spatial import KDTree\n",
    "import numpy as np\n",
    "import time\n",
    "\n",
    "points = np.random.randint(-10, 10, (100, 3))\n",
    "\n",
    "start = time.time()\n",
    "for i in range(10000):\n",
    "    tree = KDTree(points, leafsize=3, compact_nodes=True, balanced_tree=True)\n",
    "\n",
    "end = time.time()\n",
    "print(\"time to build tree: \", (end - start) / 10000)"
   ]
  },
  {
   "cell_type": "code",
   "execution_count": 13,
   "metadata": {},
   "outputs": [
    {
     "data": {
      "text/plain": [
       "array([[  7,  -8,  -6],\n",
       "       [ -9,  -6,  -1],\n",
       "       [  3,   7,  -3],\n",
       "       [  9,   2,   4],\n",
       "       [  7,  -6,   0],\n",
       "       [  3,   4,   2],\n",
       "       [-10,  -4,   0],\n",
       "       [ -3,  -9,  -6],\n",
       "       [ -6,   3,  -8],\n",
       "       [  7,   7,   9],\n",
       "       [  7,   2,   1],\n",
       "       [ -6,   0,   9],\n",
       "       [  1,   4,  -8],\n",
       "       [-10,   6,   6],\n",
       "       [  6, -10,   4],\n",
       "       [  5,  -6,  -5],\n",
       "       [  0,  -8,  -6],\n",
       "       [ -5,   7, -10],\n",
       "       [ -1,  -8,   5],\n",
       "       [  0,   4,  -7]])"
      ]
     },
     "execution_count": 13,
     "metadata": {},
     "output_type": "execute_result"
    }
   ],
   "source": [
    "points"
   ]
  },
  {
   "cell_type": "code",
   "execution_count": 31,
   "metadata": {},
   "outputs": [
    {
     "data": {
      "text/plain": [
       "(array([0.        , 3.        , 6.32455532]), array([ 0, 15,  4]))"
      ]
     },
     "execution_count": 31,
     "metadata": {},
     "output_type": "execute_result"
    }
   ],
   "source": [
    "tree.query(points[0], k = 3, eps=0.1, p=2, distance_upper_bound=10.6, workers=1)"
   ]
  },
  {
   "cell_type": "code",
   "execution_count": 42,
   "metadata": {},
   "outputs": [
    {
     "name": "stdout",
     "output_type": "stream",
     "text": [
      "[3 6 3 0 5 6 6 4 0 2]\n",
      "deque([6, 3, 0, 5, 6, 6, 4, 0, 2, 0], maxlen=10)\n",
      "deque([3, 0, 5, 6, 6, 4, 0, 2, 0, 1], maxlen=10)\n",
      "deque([0, 5, 6, 6, 4, 0, 2, 0, 1, 2], maxlen=10)\n",
      "deque([5, 6, 6, 4, 0, 2, 0, 1, 2, 3], maxlen=10)\n",
      "deque([6, 6, 4, 0, 2, 0, 1, 2, 3, 4], maxlen=10)\n",
      "deque([6, 4, 0, 2, 0, 1, 2, 3, 4, 5], maxlen=10)\n",
      "deque([4, 0, 2, 0, 1, 2, 3, 4, 5, 6], maxlen=10)\n",
      "deque([0, 2, 0, 1, 2, 3, 4, 5, 6, 7], maxlen=10)\n",
      "deque([2, 0, 1, 2, 3, 4, 5, 6, 7, 8], maxlen=10)\n",
      "deque([0, 1, 2, 3, 4, 5, 6, 7, 8, 9], maxlen=10)\n"
     ]
    }
   ],
   "source": [
    "import numpy as np\n",
    "from collections import deque\n",
    "\n",
    "elems = np.random.randint(0, 10, (10, ))\n",
    "q = deque(elems, maxlen=10)\n",
    "print(elems)\n",
    "for i in range(10):\n",
    "    q.append(i)\n",
    "    print(q)"
   ]
  },
  {
   "cell_type": "code",
   "execution_count": null,
   "metadata": {},
   "outputs": [],
   "source": []
  }
 ],
 "metadata": {
  "kernelspec": {
   "display_name": "ros_env",
   "language": "python",
   "name": "python3"
  },
  "language_info": {
   "codemirror_mode": {
    "name": "ipython",
    "version": 3
   },
   "file_extension": ".py",
   "mimetype": "text/x-python",
   "name": "python",
   "nbconvert_exporter": "python",
   "pygments_lexer": "ipython3",
   "version": "3.11.8"
  }
 },
 "nbformat": 4,
 "nbformat_minor": 2
}
