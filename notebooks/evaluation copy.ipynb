{
 "cells": [
  {
   "cell_type": "markdown",
   "metadata": {},
   "source": [
    "### Importing GT"
   ]
  },
  {
   "cell_type": "code",
   "execution_count": 82,
   "metadata": {},
   "outputs": [
    {
     "data": {
      "text/plain": [
       "(['1_cropped_gt.json'], ['1_cropped_pred.json'])"
      ]
     },
     "execution_count": 82,
     "metadata": {},
     "output_type": "execute_result"
    }
   ],
   "source": [
    "import json\n",
    "import numpy as np\n",
    "from scipy.spatial.transform import Rotation as R\n",
    "from compas.geometry import oriented_bounding_box_numpy\n",
    "from pytorch3d.ops import box3d_overlap\n",
    "import torch\n",
    "import os\n",
    "import open3d as o3d\n",
    "\n",
    "IOU_THRESHOLD = 0.1\n",
    "LABEL_FOLDER = \"labels/\"\n",
    "\n",
    "gt_jsons = [f for f in os.listdir(LABEL_FOLDER) if f.endswith('.json') and \"gt\" in f]\n",
    "pred_jsons = [f for f in os.listdir(LABEL_FOLDER) if f.endswith('.json') and \"pred\" in f]\n",
    "gt_jsons.sort(), pred_jsons.sort()\n",
    "gt_jsons = gt_jsons[:1]\n",
    "pred_jsons = pred_jsons[:1]\n",
    "gt_jsons, pred_jsons"
   ]
  },
  {
   "cell_type": "code",
   "execution_count": 83,
   "metadata": {},
   "outputs": [],
   "source": [
    "def compute_3d_IoU(box1, box2):\n",
    "    box1 = torch.tensor(box1, dtype=torch.float32).unsqueeze(0)\n",
    "    box2 = torch.tensor(box2, dtype=torch.float32).unsqueeze(0)\n",
    "    vol, IoU =  box3d_overlap(box1, box2)\n",
    "\n",
    "    return IoU.item()"
   ]
  },
  {
   "cell_type": "code",
   "execution_count": 84,
   "metadata": {},
   "outputs": [],
   "source": [
    "def reorder_vertices(box):\n",
    "    \"\"\"\n",
    "    A unit cube, defined with the pythorch3d convention, has the following vertices:\n",
    "        [0, 0, 0],                    (4) +---------+. (5)\n",
    "        [1, 0, 0],                        | ` .     |  ` .\n",
    "        [1, 1, 0],                        | (0) +---+-----+ (1)\n",
    "        [0, 1, 0],                        |     |   |     |\n",
    "        [0, 0, 1],                    (7) +-----+---+. (6)|\n",
    "        [1, 0, 1],                        ` .   |     ` . |\n",
    "        [1, 1, 1],                        (3) ` +---------+ (2)\n",
    "        [0, 1, 1],\n",
    "    \n",
    "    While the OrientedBoundingBox from Open3D has the following vertices:\n",
    "       [0, 0, 0],\n",
    "       [1, 0, 0],\n",
    "       [0, 1, 0],\n",
    "       [0, 0, 1],\n",
    "       [1, 1, 1],\n",
    "       [0, 1, 1],\n",
    "       [1, 0, 1],\n",
    "       [1, 1, 0]\n",
    "\n",
    "    This function reorders the vertices of the OrientedBoundingBox to match the pytorch3d convention.\n",
    "    This allows to use the official IoU function from Pytorch3D.\n",
    "    \"\"\"\n",
    "    assert box.shape == (8, 3)\n",
    "\n",
    "    reordered = [\n",
    "        box[0], box[1], box[7], box[2],\n",
    "        box[3], box[6], box[4], box[5]\n",
    "    ]\n",
    "    return np.array(reordered)"
   ]
  },
  {
   "cell_type": "code",
   "execution_count": 85,
   "metadata": {},
   "outputs": [],
   "source": [
    "def create_obb_from_description(centroid, dimensions, rotations):\n",
    "    # Extract centroid, dimensions, and rotations\n",
    "    cx, cy, cz = centroid[\"x\"], centroid[\"y\"], centroid[\"z\"]\n",
    "    length, width, height = dimensions[\"length\"], dimensions[\"width\"], dimensions[\"height\"]\n",
    "    rx, ry, rz = rotations[\"x\"], rotations[\"y\"], rotations[\"z\"]\n",
    "\n",
    "    # Create the 8 corners of the box before rotation and translation\n",
    "    dx = length / 2\n",
    "    dy = width / 2\n",
    "    dz = height / 2\n",
    "\n",
    "    corners = np.array([\n",
    "        [-dx, -dy, -dz],\n",
    "        [ dx, -dy, -dz],\n",
    "        [ dx,  dy, -dz],\n",
    "        [-dx,  dy, -dz],\n",
    "        [-dx, -dy,  dz],\n",
    "        [ dx, -dy,  dz],\n",
    "        [ dx,  dy,  dz],\n",
    "        [-dx,  dy,  dz]\n",
    "    ])\n",
    "\n",
    "    # Apply rotations\n",
    "    rotation = R.from_euler('xyz', [rx, ry, rz], degrees=True)\n",
    "    rotated_corners = rotation.apply(corners)\n",
    "\n",
    "    # Apply translation (centroid)\n",
    "    translated_corners = rotated_corners + np.array([cx, cy, cz])\n",
    "\n",
    "    return translated_corners"
   ]
  },
  {
   "cell_type": "code",
   "execution_count": 86,
   "metadata": {},
   "outputs": [],
   "source": [
    "class Obj:\n",
    "    def __init__(self, label, bbox):\n",
    "        assert isinstance(label, str)\n",
    "        assert isinstance(bbox, o3d.geometry.OrientedBoundingBox)\n",
    "        self.label = label\n",
    "        self.bbox = reorder_vertices(np.asarray(bbox.get_box_points()))\n",
    "\n",
    "class Gt_Obj(Obj):\n",
    "    def __init__(self, label, bbox):\n",
    "        super().__init__(label, bbox)\n",
    "        self.points = None\n",
    "        self.centroid = np.mean(bbox.get_box_points(), axis=0)\n",
    "    def OBB(self):\n",
    "        box = o3d.geometry.OrientedBoundingBox.create_from_points(o3d.utility.Vector3dVector(self.bbox))\n",
    "        box.color = [0, 1, 0]\n",
    "        return box\n",
    "\n",
    "class Pred_Obj(Obj):\n",
    "    def __init__(self, id, label, bbox, points, score):\n",
    "        super().__init__(label, bbox)\n",
    "        self.points = points\n",
    "        self.centroid = np.mean(points, axis=0)\n",
    "        self.id = id\n",
    "        self.score = score\n",
    "    def OBB(self):\n",
    "        box = o3d.geometry.OrientedBoundingBox.create_from_points(o3d.utility.Vector3dVector(self.bbox))\n",
    "        box.color = [1, 0, 0]\n",
    "        return box\n",
    "\n",
    "\n",
    "class ObjList:\n",
    "    def __init__(self, objects: list):\n",
    "        assert isinstance(objects, list)\n",
    "        assert all(isinstance(obj, Obj) for obj in objects)\n",
    "        self.objects = objects\n",
    "\n",
    "    def __getitem__(self, key):\n",
    "        return self.objects[key]\n",
    "\n",
    "    def __len__(self):\n",
    "        return len(self.objects)\n",
    "\n",
    "    def get_boxes_list(self):\n",
    "        return [obj.bbox for obj in self.objects]"
   ]
  },
  {
   "cell_type": "code",
   "execution_count": 87,
   "metadata": {},
   "outputs": [],
   "source": [
    "def load_gt(gt_json):\n",
    "    for obj in gt_json[\"objects\"]:\n",
    "        obj[\"bbox\"] = create_obb_from_description(\n",
    "            obj[\"centroid\"], obj[\"dimensions\"], obj[\"rotations\"]\n",
    "        ).tolist()\n",
    "    gt_objects = []\n",
    "    for obj in gt_json[\"objects\"]:\n",
    "        v = o3d.utility.Vector3dVector(obj[\"bbox\"])\n",
    "        bbox = o3d.geometry.OrientedBoundingBox.create_from_points(v)\n",
    "        gt_objects.append(Gt_Obj(obj[\"name\"], bbox))\n",
    "\n",
    "    return ObjList(gt_objects)\n",
    "\n",
    "\n",
    "def load_pred(pred_json):\n",
    "    predicted_objects = pred_json[\"objects\"]\n",
    "    for obj in predicted_objects:\n",
    "        obj[\"bbox\"] = np.array(obj[\"OBB\"]).reshape(8, 3)\n",
    "        obj[\"points\"] = np.array(obj[\"points\"]).reshape(-1, 3)\n",
    "        obj[\"minimum_bbox\"] = oriented_bounding_box_numpy(obj[\"points\"])\n",
    "\n",
    "    # Load predicted bboxes\n",
    "    pred_objects = []\n",
    "    for obj in predicted_objects:\n",
    "        bbox = np.array(obj[\"minimum_bbox\"]).reshape(8, 3)\n",
    "        v = o3d.utility.Vector3dVector(bbox)\n",
    "        if np.sum(bbox) == 0:\n",
    "            continue\n",
    "        try:\n",
    "            bbox = o3d.geometry.OrientedBoundingBox.create_from_points(v)\n",
    "            pred_objects.append(Pred_Obj(obj[\"id\"], obj[\"label\"], bbox, obj[\"points\"], obj[\"score\"]))\n",
    "        except:\n",
    "            pass\n",
    "\n",
    "    return ObjList(pred_objects)\n",
    "\n",
    "\n",
    "def load_data(gt_jsons, pred_jsons):\n",
    "    DATA = {}\n",
    "    gt_jsons.sort(), pred_jsons.sort()\n",
    "\n",
    "\n",
    "    for i, (gt_json, pred_json) in enumerate(zip(gt_jsons, pred_jsons)):\n",
    "        pc_path = json.load(open(LABEL_FOLDER + gt_json))[\"path\"]\n",
    "        pointCloud = o3d.io.read_point_cloud(\"../labelCloud/\" + pc_path)\n",
    "        gt_objects = load_gt(json.load(open(LABEL_FOLDER + gt_json)))\n",
    "        pred_objects = load_pred(json.load(open(LABEL_FOLDER + pred_json)))\n",
    "        DATA[i] = {\n",
    "            \"pointcloud\": pointCloud,\n",
    "            \"gt\": gt_objects,\n",
    "            \"pred\": pred_objects,\n",
    "        }\n",
    "\n",
    "    return DATA\n",
    "\n",
    "\n",
    "DATA = load_data(gt_jsons, pred_jsons)"
   ]
  },
  {
   "cell_type": "code",
   "execution_count": 88,
   "metadata": {},
   "outputs": [
    {
     "data": {
      "text/plain": [
       "({'tv': 0,\n",
       "  'backpack': 1,\n",
       "  'handbag': 2,\n",
       "  'chair': 3,\n",
       "  'laptop': 4,\n",
       "  'bottle': 5,\n",
       "  'person': 6,\n",
       "  'dining table': 7},\n",
       " {0: 'tv',\n",
       "  1: 'backpack',\n",
       "  2: 'handbag',\n",
       "  3: 'chair',\n",
       "  4: 'laptop',\n",
       "  5: 'bottle',\n",
       "  6: 'person',\n",
       "  7: 'dining table'})"
      ]
     },
     "execution_count": 88,
     "metadata": {},
     "output_type": "execute_result"
    }
   ],
   "source": [
    "idx = 0\n",
    "label2idx = {}\n",
    "for scene in DATA:\n",
    "    gt_objects = DATA[scene][\"gt\"].objects\n",
    "    pred_objects = DATA[scene][\"pred\"].objects\n",
    "    for obj in gt_objects:\n",
    "        if obj.label not in label2idx:\n",
    "            label2idx[obj.label] = idx\n",
    "            idx += 1\n",
    "\n",
    "    for obj in pred_objects:\n",
    "        if obj.label not in label2idx:\n",
    "            label2idx[obj.label] = idx\n",
    "            idx += 1\n",
    "\n",
    "id2label = {v: k for k, v in label2idx.items()}\n",
    "label2idx, id2label"
   ]
  },
  {
   "cell_type": "code",
   "execution_count": 89,
   "metadata": {},
   "outputs": [],
   "source": [
    "def custom_draw_geometry(pcd, gt_objects, pred_objects):\n",
    "    vis = o3d.visualization.Visualizer()\n",
    "    vis.create_window()\n",
    "    vis.add_geometry(pcd)\n",
    "\n",
    "    for obj in gt_objects:\n",
    "        vis.add_geometry(obj.OBB())\n",
    "\n",
    "    for obj in pred_objects:\n",
    "        vis.add_geometry(obj.OBB())\n",
    "\n",
    "    vis.run()\n",
    "    vis.destroy_window()"
   ]
  },
  {
   "cell_type": "code",
   "execution_count": 91,
   "metadata": {},
   "outputs": [],
   "source": [
    "#custom_draw_geometry(*DATA[0].values())"
   ]
  },
  {
   "cell_type": "code",
   "execution_count": 56,
   "metadata": {},
   "outputs": [],
   "source": [
    "import matplotlib.pyplot as plt\n",
    "\n",
    "\n",
    "# Associating GT and predicted objects\n",
    "def compute_3d_iou_matrix(gt_boxes, pred_boxes):\n",
    "    \"\"\"\n",
    "    Compute the 3D IoU matrix between GT and predicted objects.\n",
    "\n",
    "    Parameters:\n",
    "    - gt_boxes: list of GT OrientedBoundingBox objects.\n",
    "    - pred_boxes: list of predicted OrientedBoundingBox objects.\n",
    "\n",
    "    Returns:\n",
    "    - numpy array: 2D array where element (i, j) is the IoU between GT object i and predicted object j.\n",
    "    \"\"\"\n",
    "    iou_matrix = np.zeros((len(gt_boxes), len(pred_boxes)))\n",
    "    for i, gt_box in enumerate(gt_boxes):\n",
    "        for j, pred_box in enumerate(pred_boxes):\n",
    "            iou_matrix[i, j] = compute_3d_IoU(gt_box, pred_box)\n",
    "    return iou_matrix\n",
    "\n",
    "\n",
    "def get_matches(gt_objects, pred_objects, iou_threshold=0.5):\n",
    "    \"\"\"\n",
    "    Get the matched GT and predicted objects.\n",
    "    returns:\n",
    "     - matched_couples: list of dictionaries containing the matched GT and predicted objects and their IoU.\n",
    "     - phantom_predictions: list of predicted objects that have no match.\n",
    "     - missed_gt: list of GT objects that have no match.\n",
    "    \"\"\"\n",
    "\n",
    "    gt_boxes = gt_objects.get_boxes_list()\n",
    "    pred_boxes = pred_objects.get_boxes_list()\n",
    "    iou_matrix = compute_3d_iou_matrix(gt_boxes, pred_boxes)\n",
    "\n",
    "    matches = []\n",
    "    for i, j in zip(*np.where(iou_matrix > iou_threshold)):\n",
    "        matches.append({\"gt\": i, \"pred\": j, \"iou\": iou_matrix[i, j]})\n",
    "    matches = sorted(matches, key=lambda x: x[\"iou\"], reverse=True)\n",
    "\n",
    "    matched_gt = set()\n",
    "    matched_preds = set()\n",
    "    matched_couples = []\n",
    "    for match in matches:\n",
    "        if match[\"gt\"] not in matched_gt and match[\"pred\"] not in matched_preds:\n",
    "            matched_gt.add(match[\"gt\"])\n",
    "            matched_preds.add(match[\"pred\"])\n",
    "            matched_couples.append(\n",
    "                {\n",
    "                    \"gt\": gt_objects[match[\"gt\"]],\n",
    "                    \"pred\": pred_objects[match[\"pred\"]],\n",
    "                    \"iou\": match[\"iou\"],\n",
    "                }\n",
    "            )\n",
    "\n",
    "    phantom_preds = [\n",
    "        pred_objects[i] for i in range(len(pred_objects)) if i not in matched_preds\n",
    "    ]\n",
    "    missed_gt = [gt_objects[i] for i in range(len(gt_objects)) if i not in matched_gt]\n",
    "\n",
    "    ious = [match[\"iou\"] for match in matched_couples]\n",
    "    assert len(ious) == len(set(ious))\n",
    "    assert len(matched_couples) + len(phantom_preds) == len(pred_objects)\n",
    "    assert len(matched_couples) + len(missed_gt) == len(gt_objects)\n",
    "\n",
    "    return matched_couples, phantom_preds, missed_gt\n",
    "\n",
    "matching_dict, phantom_preds_dict, missed_gt_dict = {}, {}, {}\n",
    "for scene in DATA:\n",
    "    gt_objects = DATA[scene][\"gt\"]\n",
    "    pred_objects = DATA[scene][\"pred\"]\n",
    "    matching_dict[scene], phantom_preds_dict[scene], missed_gt_dict[scene] = get_matches(gt_objects, pred_objects, IOU_THRESHOLD)"
   ]
  },
  {
   "cell_type": "code",
   "execution_count": 57,
   "metadata": {},
   "outputs": [],
   "source": [
    "#scene = 1\n",
    "#print(\"GT objects that have no match: \", len(missed_gt_dict[scene]))\n",
    "#print(\"Predicted objects that have no match: \", len(phantom_preds_dict[scene]))\n",
    "#custom_draw_geometry(DATA[scene][\"pointcloud\"], missed_gt_dict[scene], phantom_preds_dict[scene])"
   ]
  },
  {
   "cell_type": "code",
   "execution_count": 58,
   "metadata": {},
   "outputs": [],
   "source": [
    "matching, phantom_preds, missed_gt = [], [], []\n",
    "for scene in DATA:\n",
    "    matching.extend(matching_dict[scene])\n",
    "    phantom_preds.extend(phantom_preds_dict[scene])\n",
    "    missed_gt.extend(missed_gt_dict[scene])"
   ]
  },
  {
   "cell_type": "code",
   "execution_count": 59,
   "metadata": {},
   "outputs": [
    {
     "data": {
      "text/plain": [
       "array([[1, 0, 0, 0, 0, 0, 0, 0, 1],\n",
       "       [0, 0, 0, 0, 0, 0, 0, 0, 1],\n",
       "       [0, 0, 0, 0, 0, 0, 0, 0, 1],\n",
       "       [0, 0, 0, 1, 0, 0, 0, 0, 0],\n",
       "       [0, 0, 0, 0, 2, 0, 0, 0, 0],\n",
       "       [0, 0, 0, 0, 0, 0, 0, 0, 1],\n",
       "       [0, 0, 0, 0, 0, 0, 1, 0, 0],\n",
       "       [0, 0, 0, 0, 0, 0, 0, 0, 2],\n",
       "       [1, 1, 1, 0, 0, 1, 0, 0, 0]], dtype=int32)"
      ]
     },
     "execution_count": 59,
     "metadata": {},
     "output_type": "execute_result"
    }
   ],
   "source": [
    "def compute_confusion_matrix(matches, phantom_preds, missed_gt, label2idx, score_threshold=0.5):\n",
    "    num_classes = len(label2idx)\n",
    "    conf_matrix = np.zeros((num_classes + 1, num_classes + 1), dtype=np.int32)\n",
    "    \n",
    "    for match in matches:\n",
    "        gt_idx = label2idx[match['gt'].label]\n",
    "        pred_idx = label2idx[match['pred'].label]\n",
    "        score = match['pred'].score\n",
    "\n",
    "        if score >= score_threshold:\n",
    "            conf_matrix[gt_idx, pred_idx] += 1\n",
    "        else:\n",
    "            conf_matrix[gt_idx, num_classes] += 1  # FN\n",
    "            conf_matrix[num_classes, pred_idx] += 1  # FP\n",
    "    \n",
    "    for missed in missed_gt:\n",
    "        gt_idx = label2idx[missed.label]\n",
    "        conf_matrix[gt_idx, num_classes] += 1\n",
    "    \n",
    "    for phantom in phantom_preds:\n",
    "        pred_idx = label2idx[phantom.label]\n",
    "        conf_matrix[num_classes, pred_idx] += 1\n",
    "\n",
    "    return conf_matrix\n",
    "\n",
    "conf_matrix = compute_confusion_matrix(matching, phantom_preds, missed_gt, label2idx, 0.9)\n",
    "conf_matrix"
   ]
  },
  {
   "cell_type": "code",
   "execution_count": 60,
   "metadata": {},
   "outputs": [
    {
     "data": {
      "text/plain": [
       "(array([0.5, 0. , 0. , 1. , 1. , 0. , 1. , 1. ]),\n",
       " array([0.5, 0. , 0. , 1. , 1. , 0. , 1. , 0. ]),\n",
       " array([0.5, 0. , 0. , 1. , 1. , 0. , 1. , 0. ]),\n",
       " 0.3333333333333333)"
      ]
     },
     "execution_count": 60,
     "metadata": {},
     "output_type": "execute_result"
    }
   ],
   "source": [
    "from sklearn.metrics import precision_score, recall_score, f1_score, accuracy_score\n",
    "\n",
    "def compute_metrics_from_confusion_matrix(conf_matrix, num_classes):\n",
    "    y_true = []\n",
    "    y_pred = []\n",
    "    \n",
    "    for i in range(num_classes + 1):\n",
    "        for j in range(num_classes + 1):\n",
    "            y_true.extend([i] * conf_matrix[i, j])\n",
    "            y_pred.extend([j] * conf_matrix[i, j])\n",
    "    \n",
    "    precision = precision_score(y_true, y_pred, average=None, labels=range(num_classes + 1), zero_division=1)\n",
    "    recall = recall_score(y_true, y_pred, average=None, labels=range(num_classes + 1), zero_division=1)\n",
    "    f1 = f1_score(y_true, y_pred, average=None, labels=range(num_classes + 1), zero_division=1)\n",
    "    accuracy = accuracy_score(y_true, y_pred, normalize=True)\n",
    "    \n",
    "    return precision[:-1], recall[:-1], f1[:-1], accuracy\n",
    "\n",
    "precision, recall, f1, accuracy = compute_metrics_from_confusion_matrix(conf_matrix, len(label2idx))\n",
    "precision, recall, f1, accuracy"
   ]
  },
  {
   "cell_type": "code",
   "execution_count": 81,
   "metadata": {},
   "outputs": [
    {
     "name": "stdout",
     "output_type": "stream",
     "text": [
      "[[False  True False False False False False False False]\n",
      " [ True False False False False False False False False]\n",
      " [ True False False False False False False False False]\n",
      " [False False False False False False  True False False]\n",
      " [False False False  True False False False False False]\n",
      " [False False  True False False False False False False]\n",
      " [False False False False  True False False False False]\n",
      " [False False False False  True False False False False]\n",
      " [False False False False False  True False False False]\n",
      " [False False False False False False False  True False]\n",
      " [False False False False False False False  True False]\n",
      " [False False False False False False False False False]]\n"
     ]
    },
    {
     "name": "stderr",
     "output_type": "stream",
     "text": [
      "/Users/nicoloagostara/miniforge3/envs/ros_env/lib/python3.11/site-packages/sklearn/metrics/_ranking.py:993: UserWarning: No positive class found in y_true, recall is set to one for all thresholds.\n",
      "  warnings.warn(\n"
     ]
    },
    {
     "data": {
      "text/plain": [
       "0.7651515151515152"
      ]
     },
     "execution_count": 81,
     "metadata": {},
     "output_type": "execute_result"
    }
   ],
   "source": [
    "from sklearn.metrics import average_precision_score\n",
    "\n",
    "def MAP(matching, phantom_preds, missed_gt, label2idx):\n",
    "    n_samples = len(matching) + len(phantom_preds) + len(missed_gt)\n",
    "    num_classes = len(label2idx)\n",
    "    Y_true = np.zeros((n_samples, num_classes + 1), dtype=bool)\n",
    "    Y_pred = np.zeros((n_samples, num_classes + 1), dtype=np.float32)\n",
    "\n",
    "    for i, match in enumerate(matching):\n",
    "        gt_idx = label2idx[match['gt'].label]\n",
    "        pred_idx = label2idx[match['pred'].label]\n",
    "        score = match['pred'].score\n",
    "\n",
    "        Y_true[i, gt_idx] = True\n",
    "        Y_pred[i, pred_idx] = score\n",
    "    \n",
    "    for i, missed in enumerate(missed_gt):\n",
    "        gt_idx = label2idx[missed.label]\n",
    "        Y_true[i + len(matching), gt_idx] = True\n",
    "        Y_pred[i + len(matching), num_classes] = 0.0\n",
    "    \n",
    "    for i, phantom in enumerate(phantom_preds):\n",
    "        pred_idx = label2idx[phantom.label]\n",
    "        Y_pred[i + len(matching) + len(missed_gt), pred_idx] = phantom.score\n",
    "        Y_true[i + len(matching) + len(missed_gt), pred_idx] = False #for clarity, it was already False\n",
    "    \n",
    "    print(Y_true)\n",
    "    #TODO: Phantom preds shouldn't considered in n_samples, find a solution\n",
    "    \n",
    "    MAP = average_precision_score(Y_true, Y_pred, average='weighted')\n",
    "    return MAP\n",
    "\n",
    "MAP(matching, phantom_preds, missed_gt, label2idx)"
   ]
  },
  {
   "cell_type": "code",
   "execution_count": 62,
   "metadata": {},
   "outputs": [
    {
     "name": "stdout",
     "output_type": "stream",
     "text": [
      "(100, 9)\n"
     ]
    },
    {
     "data": {
      "text/plain": [
       "<Axes: xlabel='Recall', ylabel='Precision'>"
      ]
     },
     "execution_count": 62,
     "metadata": {},
     "output_type": "execute_result"
    },
    {
     "data": {
      "image/png": "[encoded data removed]",
      "text/plain": [
       "<Figure size 1000x600 with 1 Axes>"
      ]
     },
     "metadata": {},
     "output_type": "display_data"
    }
   ],
   "source": [
    "def AP(matching, phantom_preds, missed_gt, label2idx, return_ax_plot=False):\n",
    "    precisions, recalls, f1s, accuracies = [], [], [], []\n",
    "\n",
    "    for thr in np.linspace(0, 1, 100):\n",
    "        conf_matrix = compute_confusion_matrix(matching, phantom_preds, missed_gt, label2idx, score_threshold=thr)\n",
    "        precision, recall, f1, accuracy = compute_metrics_from_confusion_matrix(conf_matrix, len(label2idx))\n",
    "        precision = np.append(precision, 1)\n",
    "        recall = np.append(recall, 0)\n",
    "        precisions.append(precision)\n",
    "        recalls.append(recall)\n",
    "        f1s.append(f1)\n",
    "        accuracies.append(accuracy)\n",
    "    \n",
    "    precisions = np.array(precisions)\n",
    "    recalls = np.array(recalls)\n",
    "    f1s = np.array(f1s)\n",
    "    accuracies = np.array(accuracies)\n",
    "\n",
    "    print(precisions.shape)\n",
    "    ap = []\n",
    "    for i in range(precisions.shape[1] -1):\n",
    "        prec = precisions[:, i]\n",
    "        rec = recalls[:, i]\n",
    "        ap.append(np.sum((rec[:-1] - rec[1:]) * prec[:-1]))\n",
    "\n",
    "    \n",
    "    if return_ax_plot:\n",
    "        fig, ax = plt.subplots(1, 1, figsize=(10, 6))\n",
    "        for i in range(len(label2idx)):\n",
    "            ax.plot(recalls[:, i], precisions[:, i], label=id2label[i])\n",
    "        ax.set_xlabel('Recall')\n",
    "        ax.set_ylabel('Precision')\n",
    "        ax.legend()\n",
    "\n",
    "        return ap, ax\n",
    "\n",
    "    return ap, None\n",
    "\n",
    "\n",
    "ap, ax = AP(matching, phantom_preds, missed_gt, label2idx, True)\n",
    "\n",
    "ax"
   ]
  },
  {
   "cell_type": "code",
   "execution_count": 63,
   "metadata": {},
   "outputs": [],
   "source": [
    "ap = np.array(ap)"
   ]
  },
  {
   "cell_type": "code",
   "execution_count": 64,
   "metadata": {},
   "outputs": [
    {
     "data": {
      "text/plain": [
       "(0.9166666666666666,\n",
       " 0.6875,\n",
       " array([0.75, 1.  , 1.  , 1.  , 0.75, 0.  , 1.  , 0.  ]))"
      ]
     },
     "execution_count": 64,
     "metadata": {},
     "output_type": "execute_result"
    }
   ],
   "source": [
    "np.mean(ap[ap != 0]), np.mean(ap), ap"
   ]
  },
  {
   "cell_type": "code",
   "execution_count": 65,
   "metadata": {},
   "outputs": [
    {
     "name": "stdout",
     "output_type": "stream",
     "text": [
      "bottle is under-represented.\n",
      "dining table is under-represented.\n"
     ]
    }
   ],
   "source": [
    "under_represented = np.argwhere(ap == 0).flatten()\n",
    "for id in under_represented:\n",
    "    print(f\"{id2label[id]} is under-represented.\")"
   ]
  },
  {
   "cell_type": "code",
   "execution_count": null,
   "metadata": {},
   "outputs": [],
   "source": []
  }
 ],
 "metadata": {
  "kernelspec": {
   "display_name": "Python 3",
   "language": "python",
   "name": "python3"
  },
  "language_info": {
   "codemirror_mode": {
    "name": "ipython",
    "version": 3
   },
   "file_extension": ".py",
   "mimetype": "text/x-python",
   "name": "python",
   "nbconvert_exporter": "python",
   "pygments_lexer": "ipython3",
   "version": "3.11.8"
  }
 },
 "nbformat": 4,
 "nbformat_minor": 2
}
